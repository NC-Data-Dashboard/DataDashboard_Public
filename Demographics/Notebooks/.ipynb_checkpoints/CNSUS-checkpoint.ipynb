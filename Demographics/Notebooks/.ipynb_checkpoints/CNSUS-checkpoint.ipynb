{
 "cells": [
  {
   "cell_type": "code",
   "execution_count": null,
   "metadata": {},
   "outputs": [],
   "source": [
    "import pandas as pd"
   ]
  },
  {
   "cell_type": "code",
   "execution_count": null,
   "metadata": {},
   "outputs": [],
   "source": [
    "# Watermark\n",
    "#print('Nathan Young\\nJunior Data Analyst\\nCenter for the Study of Free Enterprise')\n",
    "#%load_ext watermark\n",
    "#%watermark -a \"Western Carolina University\" -u -d -v -p pandas"
   ]
  },
  {
   "cell_type": "code",
   "execution_count": null,
   "metadata": {},
   "outputs": [],
   "source": [
    "# Create Backups\n",
    "#df_backup = pd.read_csv('', encoding = 'ISO-8859-1', sep='\\t')\n",
    "#df_backup.to_csv('')"
   ]
  },
  {
   "cell_type": "markdown",
   "metadata": {},
   "source": [
    "# United States"
   ]
  },
  {
   "cell_type": "code",
   "execution_count": null,
   "metadata": {
    "scrolled": true
   },
   "outputs": [],
   "source": [
    "#Load data\n",
    "df_us = pd.read_csv('../Data/PEP_2018_PEPAGESEX_with_ann_us.csv', skiprows = 1)\n",
    "print('number of rows:', df_us.shape[0])\n",
    "print('number of columns:', df_us.shape[1])"
   ]
  },
  {
   "cell_type": "code",
   "execution_count": null,
   "metadata": {
    "scrolled": true
   },
   "outputs": [],
   "source": [
    "#Melt data\n",
    "df_us = df_us.melt(id_vars=['Geography'], var_name='Economic Measure Name', value_name='Estimated Value')\n",
    "print('number of rows:', df_us.shape[0])\n",
    "print('number of columns:', df_us.shape[1])"
   ]
  },
  {
   "cell_type": "code",
   "execution_count": null,
   "metadata": {},
   "outputs": [],
   "source": [
    "#Drop unnecessary rows\n",
    "df_us = df_us.drop(df_us.index[:2])\n",
    "df_us.head()"
   ]
  },
  {
   "cell_type": "markdown",
   "metadata": {},
   "source": [
    "# North Carolina"
   ]
  },
  {
   "cell_type": "code",
   "execution_count": null,
   "metadata": {},
   "outputs": [],
   "source": [
    "#Load data\n",
    "df_nc1 = pd.read_csv('../Data/PEP_2018_PEPAGESEX_with_ann_nc.csv', skiprows=1)\n",
    "print('number of rows:', df_nc1.shape[0])\n",
    "print('number of columns:', df_nc1.shape[1])"
   ]
  },
  {
   "cell_type": "code",
   "execution_count": null,
   "metadata": {},
   "outputs": [],
   "source": [
    "#Melt data\n",
    "df_nc1 = df_nc1.melt(id_vars=['Geography'], var_name='Economic Measure Name', value_name='Estimated Value')\n",
    "print('number of rows:', df_nc1.shape[0])\n",
    "print('number of columns:', df_nc1.shape[1])"
   ]
  },
  {
   "cell_type": "code",
   "execution_count": null,
   "metadata": {
    "scrolled": false
   },
   "outputs": [],
   "source": [
    "#Filter data to display only North Carolina\n",
    "filter1 = df_nc1['Geography'].str.contains('North Carolina')\n",
    "df_nc1 = df_nc1[filter1]\n",
    "df_nc1.head()"
   ]
  },
  {
   "cell_type": "code",
   "execution_count": null,
   "metadata": {},
   "outputs": [],
   "source": [
    "#Drop unnecessary rows\n",
    "df_nc1 = df_nc1.drop(df_nc1.index[:2])\n",
    "df_nc1.head()"
   ]
  },
  {
   "cell_type": "code",
   "execution_count": null,
   "metadata": {},
   "outputs": [],
   "source": [
    "#Load data\n",
    "df_nc2 = pd.read_csv('../Data/PEP_2018_PEPSR6H_with_ann_nc.csv', skiprows=1)\n",
    "print('number of rows:', df_nc2.shape[0])\n",
    "print('number of columns:', df_nc2.shape[1])"
   ]
  },
  {
   "cell_type": "markdown",
   "metadata": {},
   "source": [
    "# Counties"
   ]
  },
  {
   "cell_type": "code",
   "execution_count": null,
   "metadata": {},
   "outputs": [],
   "source": [
    "#Load data\n",
    "df_co1 = pd.read_csv('../Data/PEP_2018_PEPAGESEX_with_ann_county.csv', skiprows=1)\n",
    "print('number of rows:', df_co1.shape[0])\n",
    "print('number of columns:', df_co1.shape[1])"
   ]
  },
  {
   "cell_type": "code",
   "execution_count": null,
   "metadata": {
    "scrolled": true
   },
   "outputs": [],
   "source": [
    "#Melt data\n",
    "df_co1 = df_co1.melt(id_vars=['Geography'], var_name='Economic Measure Name', value_name='Estimated Value')\n",
    "print('number of rows:', df_co1.shape[0])\n",
    "print('number of columns:', df_co1.shape[1])"
   ]
  },
  {
   "cell_type": "code",
   "execution_count": null,
   "metadata": {},
   "outputs": [],
   "source": [
    "#Drop unnecessary rows\n",
    "df_co1 = df_co1.drop(df_co1.index[:200])\n",
    "df_co1.head()"
   ]
  },
  {
   "cell_type": "code",
   "execution_count": null,
   "metadata": {},
   "outputs": [],
   "source": [
    "#Load data\n",
    "df_co2 = pd.read_csv('../Data/PEP_2018_PEPSR6H_with_ann_county.csv', skiprows=1)\n",
    "print('number of rows:', df_co2.shape[0])\n",
    "print('number of columns:', df_co2.shape[1])\n",
    "df_co2"
   ]
  }
 ],
 "metadata": {
  "kernelspec": {
   "display_name": "Python 3",
   "language": "python",
   "name": "python3"
  },
  "language_info": {
   "codemirror_mode": {
    "name": "ipython",
    "version": 3
   },
   "file_extension": ".py",
   "mimetype": "text/x-python",
   "name": "python",
   "nbconvert_exporter": "python",
   "pygments_lexer": "ipython3",
   "version": "3.7.6"
  }
 },
 "nbformat": 4,
 "nbformat_minor": 2
}
