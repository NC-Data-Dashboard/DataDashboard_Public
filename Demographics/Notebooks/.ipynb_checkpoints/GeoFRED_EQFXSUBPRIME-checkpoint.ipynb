{
 "cells": [
  {
   "cell_type": "code",
   "execution_count": null,
   "metadata": {},
   "outputs": [],
   "source": [
    "#Imports\n",
    "import pandas as pd\n",
    "import pyodbc\n",
    "import sqlalchemy\n",
    "from sqlalchemy import create_engine\n",
    "import urllib\n",
    "import numpy as np"
   ]
  },
  {
   "cell_type": "code",
   "execution_count": null,
   "metadata": {},
   "outputs": [],
   "source": [
    "# Watermark\n",
    "print('Nathan Young\\nJunior Data Analyst\\nCenter for the Study of Free Enterprise')\n",
    "%load_ext watermark\n",
    "%watermark -a \"Western Carolina University\" -u -d -p pandas"
   ]
  },
  {
   "cell_type": "code",
   "execution_count": null,
   "metadata": {},
   "outputs": [],
   "source": [
    "# Create backups\n",
    "df_backup = pd.read_csv('./Updates/STG_FRED_EQFXSUBPRIME.txt')\n",
    "df_backup.to_csv('./Backups/STG_FRED_EQFXSUBPRIME_BACKUP.txt')"
   ]
  },
  {
   "cell_type": "code",
   "execution_count": null,
   "metadata": {},
   "outputs": [],
   "source": [
    "# Getting and reading new data \n",
    "df = pd.read_excel(\"https://geofred.stlouisfed.org/api/download.php?theme=pubugn&colorCount=5&reverseColors=false&intervalMethod=fractile&displayStateOutline=true&lng=-89.96&lat=40.81&zoom=4&showLabels=true&showValues=true&regionType=county&seriesTypeId=147149&attributes=Not+Seasonally+Adjusted%2C+Quarterly%2C+Percent&aggregationFrequency=Quarterly&aggregationType=Average&transformation=lin&date=2025-01-01&type=xls&startDate=1999-01-01&endDate=2025-01-01&mapWidth=999&mapHeight=521&hideLegend=false\", skiprows = 1)\n",
    "df.head()"
   ]
  },
  {
   "cell_type": "code",
   "execution_count": null,
   "metadata": {
    "scrolled": true
   },
   "outputs": [],
   "source": [
    "# Filter data to display only North Carolina\n",
    "filter1 = df['Region Name'].str.contains(', NC')\n",
    "df_nc = df[filter1]\n",
    "df_nc.head()"
   ]
  },
  {
   "cell_type": "code",
   "execution_count": null,
   "metadata": {},
   "outputs": [],
   "source": [
    "# Set Series ID as index\n",
    "df_nc.set_index(df_nc['Series ID'], inplace = True)\n",
    "df_nc.head(2)"
   ]
  },
  {
   "cell_type": "code",
   "execution_count": null,
   "metadata": {},
   "outputs": [],
   "source": [
    "# Drop Series ID column\n",
    "df_nc.drop('Series ID', axis = 1, inplace = True)\n",
    "df_nc.head(2)"
   ]
  },
  {
   "cell_type": "code",
   "execution_count": null,
   "metadata": {},
   "outputs": [],
   "source": [
    "# Save file to tab delimited txt for upload to SSMS\n",
    "df_nc.to_csv('./Updates/STG_FRED_EQFXSUBPRIME.txt', sep = '\\t', encoding = 'UTF-8')"
   ]
  },
  {
   "cell_type": "code",
   "execution_count": null,
   "metadata": {},
   "outputs": [],
   "source": [
    "#Reset Index for upload to database\n",
    "df_nc = df_nc.reset_index()    "
   ]
  },
  {
   "cell_type": "code",
   "execution_count": null,
   "metadata": {},
   "outputs": [],
   "source": [
    "column_list = df_nc.columns.values\n",
    "for i in column_list:\n",
    "    df_nc.loc[df_nc[i].isnull(),i]=0"
   ]
  },
  {
   "cell_type": "code",
   "execution_count": null,
   "metadata": {},
   "outputs": [],
   "source": [
    "#Connect to database and create cursor\n",
    "con = pyodbc.connect('Driver={SQL Server};'\n",
    "                      'Server=[servername];'\n",
    "                      'Database=[databasename];'\n",
    "                      'Trusted_Connection=yes;',\n",
    "                    autocommit=True)\n",
    "\n",
    "c = con.cursor()"
   ]
  },
  {
   "cell_type": "code",
   "execution_count": null,
   "metadata": {},
   "outputs": [],
   "source": [
    "#Drop old backup table\n",
    "c.execute('drop table STG_FRED_EQFXSUBPRIME_BACKUP')"
   ]
  },
  {
   "cell_type": "code",
   "execution_count": null,
   "metadata": {},
   "outputs": [],
   "source": [
    "#Create new backup\n",
    "c.execute('''sp_rename 'dbo.STG_FRED_EQFXSUBPRIME','STG_FRED_EQFXSUBPRIME_BACKUP';''')"
   ]
  },
  {
   "cell_type": "code",
   "execution_count": null,
   "metadata": {},
   "outputs": [],
   "source": [
    "c.execute('''USE [[databasename]]\n",
    "\n",
    "SET ANSI_NULLS ON\n",
    "\n",
    "SET QUOTED_IDENTIFIER ON\n",
    "\n",
    "CREATE TABLE [dbo].[STG_FRED_EQFXSUBPRIME](\n",
    "\t[Series ID] [varchar](18) NULL,\n",
    "\t[Region Name] [varchar](23) NULL,\n",
    "\t[Region Code] [int] NULL,\n",
    "\t[1999 Q1] [float] NULL,\n",
    "\t[1999 Q2] [float] NULL,\n",
    "\t[1999 Q3] [float] NULL,\n",
    "\t[1999 Q4] [float] NULL,\n",
    "\t[2000 Q1] [float] NULL,\n",
    "\t[2000 Q2] [float] NULL,\n",
    "\t[2000 Q3] [float] NULL,\n",
    "\t[2000 Q4] [float] NULL,\n",
    "\t[2001 Q1] [float] NULL,\n",
    "\t[2001 Q2] [float] NULL,\n",
    "\t[2001 Q3] [float] NULL,\n",
    "\t[2001 Q4] [float] NULL,\n",
    "\t[2002 Q1] [float] NULL,\n",
    "\t[2002 Q2] [float] NULL,\n",
    "\t[2002 Q3] [float] NULL,\n",
    "\t[2002 Q4] [float] NULL,\n",
    "\t[2003 Q1] [float] NULL,\n",
    "\t[2003 Q2] [float] NULL,\n",
    "\t[2003 Q3] [float] NULL,\n",
    "\t[2003 Q4] [float] NULL,\n",
    "\t[2004 Q1] [float] NULL,\n",
    "\t[2004 Q2] [float] NULL,\n",
    "\t[2004 Q3] [float] NULL,\n",
    "\t[2004 Q4] [float] NULL,\n",
    "\t[2005 Q1] [float] NULL,\n",
    "\t[2005 Q2] [float] NULL,\n",
    "\t[2005 Q3] [float] NULL,\n",
    "\t[2005 Q4] [float] NULL,\n",
    "\t[2006 Q1] [float] NULL,\n",
    "\t[2006 Q2] [float] NULL,\n",
    "\t[2006 Q3] [float] NULL,\n",
    "\t[2006 Q4] [float] NULL,\n",
    "\t[2007 Q1] [float] NULL,\n",
    "\t[2007 Q2] [float] NULL,\n",
    "\t[2007 Q3] [float] NULL,\n",
    "\t[2007 Q4] [float] NULL,\n",
    "\t[2008 Q1] [float] NULL,\n",
    "\t[2008 Q2] [float] NULL,\n",
    "\t[2008 Q3] [float] NULL,\n",
    "\t[2008 Q4] [float] NULL,\n",
    "\t[2009 Q1] [float] NULL,\n",
    "\t[2009 Q2] [float] NULL,\n",
    "\t[2009 Q3] [float] NULL,\n",
    "\t[2009 Q4] [float] NULL,\n",
    "\t[2010 Q1] [float] NULL,\n",
    "\t[2010 Q2] [float] NULL,\n",
    "\t[2010 Q3] [float] NULL,\n",
    "\t[2010 Q4] [float] NULL,\n",
    "\t[2011 Q1] [float] NULL,\n",
    "\t[2011 Q2] [float] NULL,\n",
    "\t[2011 Q3] [float] NULL,\n",
    "\t[2011 Q4] [float] NULL,\n",
    "\t[2012 Q1] [float] NULL,\n",
    "\t[2012 Q2] [float] NULL,\n",
    "\t[2012 Q3] [float] NULL,\n",
    "\t[2012 Q4] [float] NULL,\n",
    "\t[2013 Q1] [float] NULL,\n",
    "\t[2013 Q2] [float] NULL,\n",
    "\t[2013 Q3] [float] NULL,\n",
    "\t[2013 Q4] [float] NULL,\n",
    "\t[2014 Q1] [float] NULL,\n",
    "\t[2014 Q2] [float] NULL,\n",
    "\t[2014 Q3] [float] NULL,\n",
    "\t[2014 Q4] [float] NULL,\n",
    "\t[2015 Q1] [float] NULL,\n",
    "\t[2015 Q2] [float] NULL,\n",
    "\t[2015 Q3] [float] NULL,\n",
    "\t[2015 Q4] [float] NULL,\n",
    "\t[2016 Q1] [float] NULL,\n",
    "\t[2016 Q2] [float] NULL,\n",
    "\t[2016 Q3] [float] NULL,\n",
    "\t[2016 Q4] [float] NULL,\n",
    "\t[2017 Q1] [float] NULL,\n",
    "\t[2017 Q2] [float] NULL,\n",
    "\t[2017 Q3] [float] NULL,\n",
    "\t[2017 Q4] [float] NULL,\n",
    "\t[2018 Q1] [float] NULL,\n",
    "\t[2018 Q2] [float] NULL,\n",
    "\t[2018 Q3] [float] NULL,\n",
    "\t[2018 Q4] [float] NULL,\n",
    "\t[2019 Q1] [float] NULL,\n",
    "\t[2019 Q2] [float] NULL,\n",
    "    [2019 Q3] [float] NULL,\n",
    "    [2019 Q4] [float] NULL,\n",
    "    [2020 Q1] [float] NULL,\n",
    "    [2020 Q2] [float] NULL,\n",
    "    [2020 Q3] [float] NULL,\n",
    "    [2020 Q4] [float] NULL,\n",
    "    [2021 Q1] [float] NULL,\n",
    "    [2021 Q2] [float] NULL,\n",
    "    [2021 Q3] [float] NULL,\n",
    "    [2021 Q4] [float] NULL,\n",
    "    [2022 Q1] [float] NULL,\n",
    "    [2022 Q2] [float] NULL,\n",
    "    [2022 Q3] [float] NULL,\n",
    "    [2022 Q4] [float] NULL,\n",
    "    [2023 Q1] [float] NULL,\n",
    "    [2023 Q2] [float] NULL,\n",
    "    [2023 Q3] [float] NULL,\n",
    "    [2023 Q4] [float] NULL,\n",
    "    [2024 Q1] [float] NULL,\n",
    "    [2024 Q2] [float] NULL,\n",
    "    [2024 Q3] [float] NULL,\n",
    "    [2024 Q4] [float] NULL,\n",
    "    [2025 Q1] [float] NULL,\n",
    ") ON [PRIMARY]''')"
   ]
  },
  {
   "cell_type": "code",
   "execution_count": null,
   "metadata": {},
   "outputs": [],
   "source": [
    "params = urllib.parse.quote_plus(r'Driver={SQL Server};' \n",
    "                                 r'Server=[servername];'\n",
    "                                 r'Database=[databasename];'\n",
    "                                 r'Trusted_Connection=yes;')\n",
    "\n",
    "engine = create_engine(\"mssql+pyodbc:///?odbc_connect=%s\" % params)\n",
    "\n",
    "#warning: discard old table if exists\n",
    "df_nc.to_sql('STG_FRED_EQFXSUBPRIME', con=engine, if_exists='replace', index=False)"
   ]
  }
 ],
 "metadata": {
  "kernelspec": {
   "display_name": "Python 3",
   "language": "python",
   "name": "python3"
  },
  "language_info": {
   "codemirror_mode": {
    "name": "ipython",
    "version": 3
   },
   "file_extension": ".py",
   "mimetype": "text/x-python",
   "name": "python",
   "nbconvert_exporter": "python",
   "pygments_lexer": "ipython3",
   "version": "3.7.6"
  }
 },
 "nbformat": 4,
 "nbformat_minor": 2
}
