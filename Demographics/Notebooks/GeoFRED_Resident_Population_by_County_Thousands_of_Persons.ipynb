{
 "cells": [
  {
   "cell_type": "code",
   "execution_count": null,
   "metadata": {},
   "outputs": [],
   "source": [
    "#Imports\n",
    "import pandas as pd\n",
    "import pyodbc\n",
    "import sqlalchemy\n",
    "from sqlalchemy import create_engine\n",
    "import urllib\n",
    "import numpy as np"
   ]
  },
  {
   "cell_type": "code",
   "execution_count": null,
   "metadata": {},
   "outputs": [],
   "source": [
    "# Create backups\n",
    "df_backup = pd.read_csv('./Updates/STG_FRED_Resident_Population_by_County_Thousands_of_Persons.txt')\n",
    "df_backup.to_csv('./Backups/STG_FRED_Resident_Population_by_County_Thoudands_of_Persons_BACKUP.txt')"
   ]
  },
  {
   "cell_type": "code",
   "execution_count": null,
   "metadata": {},
   "outputs": [],
   "source": [
    "# Getting and reading new data \n",
    "df = pd.read_excel(\"https://geofred.stlouisfed.org/api/download.php?theme=pubugn&colorCount=5&reverseColors=false&intervalMethod=fractile&displayStateOutline=true&lng=-89.96&lat=40.78&zoom=4&showLabels=true&showValues=true&regionType=county&seriesTypeId=1549&attributes=Not+Seasonally+Adjusted%2C+Annual%2C+Thousands+of+Persons&aggregationFrequency=Annual&aggregationType=Average&transformation=lin&date=2030-01-01&type=xls&startDate=1970-01-01&endDate=2030-01-01&mapWidth=999&mapHeight=582&hideLegend=false\", skiprows=1)\n",
    "df.head(2)"
   ]
  },
  {
   "cell_type": "code",
   "execution_count": null,
   "metadata": {
    "scrolled": true
   },
   "outputs": [],
   "source": [
    "# Filter data to display only North Carolina\n",
    "filter1 = df['Region Name'].str.contains(', NC')\n",
    "df_nc = df[filter1]\n",
    "df_nc.head(2)"
   ]
  },
  {
   "cell_type": "code",
   "execution_count": null,
   "metadata": {},
   "outputs": [],
   "source": [
    "# Set index to Series ID\n",
    "df_nc.set_index(df_nc['Series ID'], inplace = True)\n",
    "df_nc.head(2)"
   ]
  },
  {
   "cell_type": "code",
   "execution_count": null,
   "metadata": {},
   "outputs": [],
   "source": [
    "# Drop Series ID column\n",
    "df_nc.drop('Series ID', axis = 1, inplace = True)\n",
    "df_nc.head(2)"
   ]
  },
  {
   "cell_type": "code",
   "execution_count": null,
   "metadata": {},
   "outputs": [],
   "source": [
    "# Save file to tab delimited txt for upload to SSMS\n",
    "df_nc.to_csv('./Updates/STG_FRED_Resident_Population_by_County_Thousands_of_Persons.txt', sep = '\\t')"
   ]
  },
  {
   "cell_type": "code",
   "execution_count": null,
   "metadata": {},
   "outputs": [],
   "source": [
    "#Reset Index for upload to database\n",
    "df_nc = df_nc.reset_index()    "
   ]
  },
  {
   "cell_type": "code",
   "execution_count": null,
   "metadata": {},
   "outputs": [],
   "source": [
    "column_list = df_nc.columns.values\n",
    "for i in column_list:\n",
    "    df_nc.loc[df_nc[i].isnull(),i]=0"
   ]
  },
  {
   "cell_type": "code",
   "execution_count": null,
   "metadata": {},
   "outputs": [],
   "source": [
    "#Connect to database and create cursor\n",
    "con = pyodbc.connect('Driver={SQL Server};'\n",
    "                      'Server=[servername];'\n",
    "                      'Database=[dbname];'\n",
    "                      'Trusted_Connection=yes;',\n",
    "                    autocommit=True)\n",
    "\n",
    "c = con.cursor()"
   ]
  },
  {
   "cell_type": "code",
   "execution_count": null,
   "metadata": {},
   "outputs": [],
   "source": [
    "#Drop old backup table\n",
    "c.execute('drop table STG_FRED_Resident_Population_by_County_Thousands_of_Persons_BACKUP')"
   ]
  },
  {
   "cell_type": "code",
   "execution_count": null,
   "metadata": {},
   "outputs": [],
   "source": [
    "#Create new backup\n",
    "c.execute('''sp_rename 'dbo.STG_FRED_Resident_Population_by_County_Thousands_of_Persons','STG_FRED_Resident_Population_by_County_Thousands_of_Persons_BACKUP';''')"
   ]
  },
  {
   "cell_type": "code",
   "execution_count": null,
   "metadata": {},
   "outputs": [],
   "source": [
    "c.execute('''USE [[dbname]]\n",
    "\n",
    "SET ANSI_NULLS ON\n",
    "\n",
    "\n",
    "SET QUOTED_IDENTIFIER ON\n",
    "\n",
    "CREATE TABLE [dbo].[STG_FRED_Resident_Population_by_County_Thousands_of_Persons](\n",
    "\t[Series ID] [varchar](14) NULL,\n",
    "\t[Region Name] [varchar](23) NULL,\n",
    "\t[Region Code] [int] NULL,\n",
    "\t[1975] [float] NULL,\n",
    "\t[1976] [float] NULL,\n",
    "\t[1977] [float] NULL,\n",
    "\t[1978] [float] NULL,\n",
    "\t[1979] [float] NULL,\n",
    "\t[1980] [float] NULL,\n",
    "\t[1981] [float] NULL,\n",
    "\t[1982] [float] NULL,\n",
    "\t[1983] [float] NULL,\n",
    "\t[1984] [float] NULL,\n",
    "\t[1985] [float] NULL,\n",
    "\t[1986] [float] NULL,\n",
    "\t[1987] [float] NULL,\n",
    "\t[1988] [float] NULL,\n",
    "\t[1989] [float] NULL,\n",
    "\t[1990] [float] NULL,\n",
    "\t[1991] [float] NULL,\n",
    "\t[1992] [float] NULL,\n",
    "\t[1993] [float] NULL,\n",
    "\t[1994] [float] NULL,\n",
    "\t[1995] [float] NULL,\n",
    "\t[1996] [float] NULL,\n",
    "\t[1997] [float] NULL,\n",
    "\t[1998] [float] NULL,\n",
    "\t[1999] [float] NULL,\n",
    "\t[2000] [float] NULL,\n",
    "\t[2001] [float] NULL,\n",
    "\t[2002] [float] NULL,\n",
    "\t[2003] [float] NULL,\n",
    "\t[2004] [float] NULL,\n",
    "\t[2005] [float] NULL,\n",
    "\t[2006] [float] NULL,\n",
    "\t[2007] [float] NULL,\n",
    "\t[2008] [float] NULL,\n",
    "\t[2009] [float] NULL,\n",
    "\t[2010] [float] NULL,\n",
    "\t[2011] [float] NULL,\n",
    "\t[2012] [float] NULL,\n",
    "\t[2013] [float] NULL,\n",
    "\t[2014] [float] NULL,\n",
    "\t[2015] [float] NULL,\n",
    "\t[2016] [float] NULL,\n",
    "\t[2017] [float] NULL,\n",
    "\t[2018] [float] NULL,\n",
    "    [2019] [float] NULL,\n",
    "    [2020] [float] NULL,\n",
    "    [2021] [float] NULL,\n",
    "    [2022] [float] NULL,\n",
    "    [2023] [float] NULL,\n",
    "    [2024] [float] NULL,\n",
    "    [2025] [float] NULL,\n",
    "    [2026] [float] NULL,\n",
    "    [2027] [float] NULL,\n",
    "    [2028] [float] NULL,\n",
    "    [2029] [float] NULL,\n",
    "    [2030] [float] NULL\n",
    ") ON [PRIMARY]''')"
   ]
  },
  {
   "cell_type": "code",
   "execution_count": null,
   "metadata": {},
   "outputs": [],
   "source": [
    "params = urllib.parse.quote_plus(r'Driver={SQL Server};' \n",
    "                                 r'Server=[servername];'\n",
    "                                 r'Database=[dbname];'\n",
    "                                 r'Trusted_Connection=yes;')\n",
    "\n",
    "engine = create_engine(\"mssql+pyodbc:///?odbc_connect=%s\" % params)\n",
    "\n",
    "#warning: discard old table if exists\n",
    "df_nc.to_sql('STG_FRED_Resident_Population_by_County_Thousands_of_Persons', con=engine, if_exists='replace', index=False)"
   ]
  }
 ],
 "metadata": {
  "kernelspec": {
   "display_name": "Python 3",
   "language": "python",
   "name": "python3"
  },
  "language_info": {
   "codemirror_mode": {
    "name": "ipython",
    "version": 3
   },
   "file_extension": ".py",
   "mimetype": "text/x-python",
   "name": "python",
   "nbconvert_exporter": "python",
   "pygments_lexer": "ipython3",
   "version": "3.7.6"
  }
 },
 "nbformat": 4,
 "nbformat_minor": 2
}
