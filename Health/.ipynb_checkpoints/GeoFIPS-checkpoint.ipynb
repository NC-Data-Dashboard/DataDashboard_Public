{
 "cells": [
  {
   "cell_type": "code",
   "execution_count": 14,
   "metadata": {},
   "outputs": [],
   "source": [
    "import pandas as pd"
   ]
  },
  {
   "cell_type": "code",
   "execution_count": 15,
   "metadata": {},
   "outputs": [
    {
     "ename": "SyntaxError",
     "evalue": "invalid syntax (<ipython-input-15-9c4f544683af>, line 1)",
     "output_type": "error",
     "traceback": [
      "\u001b[1;36m  File \u001b[1;32m\"<ipython-input-15-9c4f544683af>\"\u001b[1;36m, line \u001b[1;32m1\u001b[0m\n\u001b[1;33m    geofips_codes = ['Alamance':37001, 'Alexander':37003, 'Alleghany':37005, 'Anson':37007, 'Ashe':37009, 'Avery':37011, Beaufort\t37013\u001b[0m\n\u001b[1;37m                               ^\u001b[0m\n\u001b[1;31mSyntaxError\u001b[0m\u001b[1;31m:\u001b[0m invalid syntax\n"
     ]
    }
   ],
   "source": [
    "geofips_codes = ['Alamance':'37001', 'Alexander':'37003', 'Alleghany':'37005', 'Anson':'37007', 'Ashe':'37009', 'Avery':37011, Beaufort\t37013\n",
    "Bertie\t37015\n",
    "Bladen\t37017\n",
    "Brunswick\t37019\n",
    "Buncombe\t37021\n",
    "Burke\t37023\n",
    "Cabarrus\t37025\n",
    "Caldwell\t37027\n",
    "Camden\t37029\n",
    "Carteret\t37031\n",
    "Caswell\t37033\n",
    "Catawba\t37035\n",
    "Chatham\t37037\n",
    "Cherokee\t37039\n",
    "Chowan\t37041\n",
    "Clay\t37043\n",
    "Cleveland\t37045\n",
    "Columbus\t37047\n",
    "Craven\t37049\n",
    "Cumberland\t37051\n",
    "Currituck\t37053\n",
    "Dare\t37055\n",
    "Davidson\t37057\n",
    "Davie\t37059\n",
    "Duplin\t37061\n",
    "Durham\t37063\n",
    "Edgecombe\t37065\n",
    "Forsyth\t37067\n",
    "Franklin\t37069\n",
    "Gaston\t37071\n",
    "Gates\t37073\n",
    "Graham\t37075\n",
    "Granville\t37077\n",
    "Greene\t37079\n",
    "Guilford\t37081\n",
    "Halifax\t37083\n",
    "Harnett\t37085\n",
    "Haywood\t37087\n",
    "Henderson\t37089\n",
    "Hertford\t37091\n",
    "Hoke\t37093\n",
    "Hyde\t37095\n",
    "Iredell\t37097\n",
    "Jackson\t37099\n",
    "Johnston\t37101\n",
    "Jones\t37103\n",
    "Lee\t37105\n",
    "Lenoir\t37107\n",
    "Lincoln\t37109\n",
    "McDowell\t37111\n",
    "Macon\t37113\n",
    "Madison\t37115\n",
    "Martin\t37117\n",
    "Mecklenburg\t37119\n",
    "Mitchell\t37121\n",
    "Montgomery\t37123\n",
    "Moore\t37125\n",
    "Nash\t37127\n",
    "New Hanover\t37129\n",
    "Northampton\t37131\n",
    "Onslow\t37133\n",
    "Orange\t37135\n",
    "Pamlico\t37137\n",
    "Pasquotank\t37139\n",
    "Pender\t37141\n",
    "Perquimans\t37143\n",
    "Person\t37145\n",
    "Pitt\t37147\n",
    "Polk\t37149\n",
    "Randolph\t37151\n",
    "Richmond\t37153\n",
    "Robeson\t37155\n",
    "Rockingham\t37157\n",
    "Rowan\t37159\n",
    "Rutherford\t37161\n",
    "Sampson\t37163\n",
    "Scotland\t37165\n",
    "Stanly\t37167\n",
    "Stokes\t37169\n",
    "Surry\t37171\n",
    "Swain\t37173\n",
    "Transylvania\t37175, Tyrrell\t37177, Union\t37179, Vance\t37181, Wake\t37183, Warren\t37185, Washington\t37187, Watauga\t37189, Wayne\t37191, Wilkes\t37193, Wilson\t37195, Yadkin\t37197,Yancey\t37199]"
   ]
  },
  {
   "cell_type": "code",
   "execution_count": 6,
   "metadata": {},
   "outputs": [
    {
     "data": {
      "text/html": [
       "<div>\n",
       "<style scoped>\n",
       "    .dataframe tbody tr th:only-of-type {\n",
       "        vertical-align: middle;\n",
       "    }\n",
       "\n",
       "    .dataframe tbody tr th {\n",
       "        vertical-align: top;\n",
       "    }\n",
       "\n",
       "    .dataframe thead th {\n",
       "        text-align: right;\n",
       "    }\n",
       "</style>\n",
       "<table border=\"1\" class=\"dataframe\">\n",
       "  <thead>\n",
       "    <tr style=\"text-align: right;\">\n",
       "      <th></th>\n",
       "      <th>GeoArea_FIPS</th>\n",
       "      <th>GeoArea_Name</th>\n",
       "      <th>Economic_Measure_Code</th>\n",
       "      <th>Economic_Measure_Name</th>\n",
       "      <th>Measure_Name</th>\n",
       "      <th>Data_Period_Business_Key</th>\n",
       "      <th>Estimated_Value</th>\n",
       "      <th>Unit_of_Measure_Code</th>\n",
       "    </tr>\n",
       "  </thead>\n",
       "  <tbody>\n",
       "    <tr>\n",
       "      <th>0</th>\n",
       "      <td>37001.0</td>\n",
       "      <td>Alamance</td>\n",
       "      <td>CDC_CNTY_DI01</td>\n",
       "      <td>Drug Induced Cases by Crude Rate</td>\n",
       "      <td>American Indian or Alaska Native</td>\n",
       "      <td>1999</td>\n",
       "      <td>NaN</td>\n",
       "      <td>Crude Rate</td>\n",
       "    </tr>\n",
       "    <tr>\n",
       "      <th>1</th>\n",
       "      <td>37001.0</td>\n",
       "      <td>Alamance</td>\n",
       "      <td>CDC_CNTY_DI01</td>\n",
       "      <td>Drug Induced Cases by Crude Rate</td>\n",
       "      <td>Asian or Pacific Islander</td>\n",
       "      <td>1999</td>\n",
       "      <td>NaN</td>\n",
       "      <td>Crude Rate</td>\n",
       "    </tr>\n",
       "    <tr>\n",
       "      <th>2</th>\n",
       "      <td>37001.0</td>\n",
       "      <td>Alamance</td>\n",
       "      <td>CDC_CNTY_DI01</td>\n",
       "      <td>Drug Induced Cases by Crude Rate</td>\n",
       "      <td>Black or African American</td>\n",
       "      <td>1999</td>\n",
       "      <td>NaN</td>\n",
       "      <td>Crude Rate</td>\n",
       "    </tr>\n",
       "    <tr>\n",
       "      <th>3</th>\n",
       "      <td>37001.0</td>\n",
       "      <td>Alamance</td>\n",
       "      <td>CDC_CNTY_DI01</td>\n",
       "      <td>Drug Induced Cases by Crude Rate</td>\n",
       "      <td>White</td>\n",
       "      <td>1999</td>\n",
       "      <td>NaN</td>\n",
       "      <td>Crude Rate</td>\n",
       "    </tr>\n",
       "    <tr>\n",
       "      <th>4</th>\n",
       "      <td>37003.0</td>\n",
       "      <td>Alexander</td>\n",
       "      <td>CDC_CNTY_DI01</td>\n",
       "      <td>Drug Induced Cases by Crude Rate</td>\n",
       "      <td>American Indian or Alaska Native</td>\n",
       "      <td>1999</td>\n",
       "      <td>NaN</td>\n",
       "      <td>Crude Rate</td>\n",
       "    </tr>\n",
       "  </tbody>\n",
       "</table>\n",
       "</div>"
      ],
      "text/plain": [
       "   GeoArea_FIPS GeoArea_Name Economic_Measure_Code  \\\n",
       "0       37001.0     Alamance         CDC_CNTY_DI01   \n",
       "1       37001.0     Alamance         CDC_CNTY_DI01   \n",
       "2       37001.0     Alamance         CDC_CNTY_DI01   \n",
       "3       37001.0     Alamance         CDC_CNTY_DI01   \n",
       "4       37003.0    Alexander         CDC_CNTY_DI01   \n",
       "\n",
       "              Economic_Measure_Name                      Measure_Name  \\\n",
       "0  Drug Induced Cases by Crude Rate  American Indian or Alaska Native   \n",
       "1  Drug Induced Cases by Crude Rate         Asian or Pacific Islander   \n",
       "2  Drug Induced Cases by Crude Rate         Black or African American   \n",
       "3  Drug Induced Cases by Crude Rate                             White   \n",
       "4  Drug Induced Cases by Crude Rate  American Indian or Alaska Native   \n",
       "\n",
       "  Data_Period_Business_Key Estimated_Value Unit_of_Measure_Code  \n",
       "0                     1999             NaN           Crude Rate  \n",
       "1                     1999             NaN           Crude Rate  \n",
       "2                     1999             NaN           Crude Rate  \n",
       "3                     1999             NaN           Crude Rate  \n",
       "4                     1999             NaN           Crude Rate  "
      ]
     },
     "execution_count": 6,
     "metadata": {},
     "output_type": "execute_result"
    }
   ],
   "source": [
    "df = pd.read_excel('TableauData_NC_Health_Section_WIP.xlsx')\n",
    "df.head(5)"
   ]
  },
  {
   "cell_type": "code",
   "execution_count": 8,
   "metadata": {},
   "outputs": [
    {
     "data": {
      "text/plain": [
       "GeoArea_FIPS                float64\n",
       "GeoArea_Name                 object\n",
       "Economic_Measure_Code        object\n",
       "Economic_Measure_Name        object\n",
       "Measure_Name                 object\n",
       "Data_Period_Business_Key     object\n",
       "Estimated_Value              object\n",
       "Unit_of_Measure_Code         object\n",
       "dtype: object"
      ]
     },
     "execution_count": 8,
     "metadata": {},
     "output_type": "execute_result"
    }
   ],
   "source": [
    "df.dtypes"
   ]
  },
  {
   "cell_type": "code",
   "execution_count": 11,
   "metadata": {},
   "outputs": [
    {
     "data": {
      "text/plain": [
       "GeoArea_FIPS                object\n",
       "GeoArea_Name                object\n",
       "Economic_Measure_Code       object\n",
       "Economic_Measure_Name       object\n",
       "Measure_Name                object\n",
       "Data_Period_Business_Key    object\n",
       "Estimated_Value             object\n",
       "Unit_of_Measure_Code        object\n",
       "dtype: object"
      ]
     },
     "execution_count": 11,
     "metadata": {},
     "output_type": "execute_result"
    }
   ],
   "source": [
    "df['GeoArea_FIPS'] = df['GeoArea_FIPS'].astype(str)\n",
    "df.dtypes"
   ]
  },
  {
   "cell_type": "code",
   "execution_count": 13,
   "metadata": {},
   "outputs": [
    {
     "ename": "ValueError",
     "evalue": "Unable to parse string \"nan\" at position 78431",
     "output_type": "error",
     "traceback": [
      "\u001b[1;31m---------------------------------------------------------------------------\u001b[0m",
      "\u001b[1;31mValueError\u001b[0m                                Traceback (most recent call last)",
      "\u001b[1;32mpandas\\_libs\\lib.pyx\u001b[0m in \u001b[0;36mpandas._libs.lib.maybe_convert_numeric\u001b[1;34m()\u001b[0m\n",
      "\u001b[1;31mValueError\u001b[0m: Unable to parse string \"nan\"",
      "\nDuring handling of the above exception, another exception occurred:\n",
      "\u001b[1;31mValueError\u001b[0m                                Traceback (most recent call last)",
      "\u001b[1;32m<ipython-input-13-e43ea13b8a90>\u001b[0m in \u001b[0;36m<module>\u001b[1;34m\u001b[0m\n\u001b[0;32m      1\u001b[0m \u001b[0mdf\u001b[0m\u001b[1;33m[\u001b[0m\u001b[1;34m'GeoArea_FIPS'\u001b[0m\u001b[1;33m]\u001b[0m \u001b[1;33m=\u001b[0m \u001b[0mdf\u001b[0m\u001b[1;33m[\u001b[0m\u001b[1;34m'GeoArea_FIPS'\u001b[0m\u001b[1;33m]\u001b[0m\u001b[1;33m.\u001b[0m\u001b[0mfillna\u001b[0m\u001b[1;33m(\u001b[0m\u001b[1;36m0\u001b[0m\u001b[1;33m)\u001b[0m\u001b[1;33m\u001b[0m\u001b[1;33m\u001b[0m\u001b[0m\n\u001b[1;32m----> 2\u001b[1;33m \u001b[0mdf\u001b[0m\u001b[1;33m[\u001b[0m\u001b[1;34m'GeoArea_FIPS'\u001b[0m\u001b[1;33m]\u001b[0m \u001b[1;33m=\u001b[0m \u001b[0mpd\u001b[0m\u001b[1;33m.\u001b[0m\u001b[0mto_numeric\u001b[0m\u001b[1;33m(\u001b[0m\u001b[0mdf\u001b[0m\u001b[1;33m[\u001b[0m\u001b[1;34m'GeoArea_FIPS'\u001b[0m\u001b[1;33m]\u001b[0m\u001b[1;33m)\u001b[0m\u001b[1;33m.\u001b[0m\u001b[0mastype\u001b[0m\u001b[1;33m(\u001b[0m\u001b[0mint\u001b[0m\u001b[1;33m)\u001b[0m\u001b[1;33m\u001b[0m\u001b[1;33m\u001b[0m\u001b[0m\n\u001b[0m",
      "\u001b[1;32mc:\\users\\natha\\appdata\\local\\programs\\python\\python37\\lib\\site-packages\\pandas\\core\\tools\\numeric.py\u001b[0m in \u001b[0;36mto_numeric\u001b[1;34m(arg, errors, downcast)\u001b[0m\n\u001b[0;32m    149\u001b[0m             \u001b[0mcoerce_numeric\u001b[0m \u001b[1;33m=\u001b[0m \u001b[0merrors\u001b[0m \u001b[1;32mnot\u001b[0m \u001b[1;32min\u001b[0m \u001b[1;33m(\u001b[0m\u001b[1;34m\"ignore\"\u001b[0m\u001b[1;33m,\u001b[0m \u001b[1;34m\"raise\"\u001b[0m\u001b[1;33m)\u001b[0m\u001b[1;33m\u001b[0m\u001b[1;33m\u001b[0m\u001b[0m\n\u001b[0;32m    150\u001b[0m             values = lib.maybe_convert_numeric(\n\u001b[1;32m--> 151\u001b[1;33m                 \u001b[0mvalues\u001b[0m\u001b[1;33m,\u001b[0m \u001b[0mset\u001b[0m\u001b[1;33m(\u001b[0m\u001b[1;33m)\u001b[0m\u001b[1;33m,\u001b[0m \u001b[0mcoerce_numeric\u001b[0m\u001b[1;33m=\u001b[0m\u001b[0mcoerce_numeric\u001b[0m\u001b[1;33m\u001b[0m\u001b[1;33m\u001b[0m\u001b[0m\n\u001b[0m\u001b[0;32m    152\u001b[0m             )\n\u001b[0;32m    153\u001b[0m \u001b[1;33m\u001b[0m\u001b[0m\n",
      "\u001b[1;32mpandas\\_libs\\lib.pyx\u001b[0m in \u001b[0;36mpandas._libs.lib.maybe_convert_numeric\u001b[1;34m()\u001b[0m\n",
      "\u001b[1;31mValueError\u001b[0m: Unable to parse string \"nan\" at position 78431"
     ]
    }
   ],
   "source": [
    "df['GeoArea_FIPS'] = df['GeoArea_FIPS'].fillna(0)\n",
    "df['GeoArea_FIPS'] = pd.to_numeric(df['GeoArea_FIPS']).astype(int)"
   ]
  }
 ],
 "metadata": {
  "kernelspec": {
   "display_name": "Python 3",
   "language": "python",
   "name": "python3"
  },
  "language_info": {
   "codemirror_mode": {
    "name": "ipython",
    "version": 3
   },
   "file_extension": ".py",
   "mimetype": "text/x-python",
   "name": "python",
   "nbconvert_exporter": "python",
   "pygments_lexer": "ipython3",
   "version": "3.7.4"
  }
 },
 "nbformat": 4,
 "nbformat_minor": 2
}
