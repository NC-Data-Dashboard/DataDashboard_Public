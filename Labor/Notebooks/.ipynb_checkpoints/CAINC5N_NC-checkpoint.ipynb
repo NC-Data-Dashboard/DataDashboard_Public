{
 "cells": [
  {
   "cell_type": "code",
   "execution_count": null,
   "metadata": {},
   "outputs": [],
   "source": [
    "# Imports\n",
    "import pandas as pd\n",
    "import requests\n",
    "from io import BytesIO, StringIO\n",
    "from zipfile import ZipFile\n",
    "import pyodbc\n",
    "import sqlalchemy\n",
    "from sqlalchemy import create_engine\n",
    "import urllib\n",
    "import numpy as np"
   ]
  },
  {
   "cell_type": "code",
   "execution_count": null,
   "metadata": {},
   "outputs": [],
   "source": [
    "# Watermark\n",
    "print('Nathan Young\\nJunior Data Analyst\\nCenter for the Study of Free Enterprise')\n",
    "%load_ext watermark\n",
    "%watermark -a \"Western Carolina University\" -u -d -p pandas"
   ]
  },
  {
   "cell_type": "code",
   "execution_count": null,
   "metadata": {},
   "outputs": [],
   "source": [
    "# Load BEA CAINC5N_NC data\n",
    "response = requests.get('https://apps.bea.gov/regional/zip/CAINC5N.zip')\n",
    "zip_file = ZipFile(BytesIO(response.content))\n",
    "files = zip_file.namelist()\n",
    "with zip_file.open(files[34]) as csvfile:\n",
    "    df = pd.read_csv(csvfile, encoding='ISO-8859-1', sep=\",\")"
   ]
  },
  {
   "cell_type": "code",
   "execution_count": null,
   "metadata": {
    "scrolled": true
   },
   "outputs": [],
   "source": [
    "# Check for unused fields\n",
    "df.tail(10)"
   ]
  },
  {
   "cell_type": "code",
   "execution_count": null,
   "metadata": {
    "scrolled": true
   },
   "outputs": [],
   "source": [
    "# Remove unused fields\n",
    "df.drop(df.tail(4).index,inplace=True)"
   ]
  },
  {
   "cell_type": "code",
   "execution_count": null,
   "metadata": {
    "scrolled": true
   },
   "outputs": [],
   "source": [
    "#Clean GeoFIPS\n",
    "df['GeoFIPS'] = df['GeoFIPS'].replace({\"\":''})"
   ]
  },
  {
   "cell_type": "code",
   "execution_count": null,
   "metadata": {
    "scrolled": true
   },
   "outputs": [],
   "source": [
    "# Set GeoFIPS as Index\n",
    "df.set_index(df['GeoFIPS'], inplace = True)"
   ]
  },
  {
   "cell_type": "code",
   "execution_count": null,
   "metadata": {
    "scrolled": true
   },
   "outputs": [],
   "source": [
    "# Drop GeoFIPS column\n",
    "df.drop('GeoFIPS', axis = 1, inplace = True)"
   ]
  },
  {
   "cell_type": "code",
   "execution_count": null,
   "metadata": {},
   "outputs": [],
   "source": [
    "#Connect to database and create cursor\n",
    "con = pyodbc.connect('Driver={SQL Server};'\n",
    "                      'Server=STEIN\\ECONDEV;'\n",
    "                      'Database=STG2;'\n",
    "                      'Trusted_Connection=yes;',\n",
    "                    autocommit=True)\n",
    "\n",
    "c = con.cursor()"
   ]
  },
  {
   "cell_type": "markdown",
   "metadata": {},
   "source": [
    "# Create Per Capita Personal Income"
   ]
  },
  {
   "cell_type": "code",
   "execution_count": null,
   "metadata": {},
   "outputs": [],
   "source": [
    "print('Updating Per Capita Personal Income...')"
   ]
  },
  {
   "cell_type": "code",
   "execution_count": null,
   "metadata": {},
   "outputs": [],
   "source": [
    "# Create Backups\n",
    "df_pc_backup = pd.read_csv('./Updates/STG_BEA_Per_Capita_Personal_Income.txt', encoding = 'ISO-8859-1', sep='\\t')\n",
    "df_pc_backup.to_csv('./Backups/STG_BEA_Per_Capita_Personal_Income_BACKUP.txt')"
   ]
  },
  {
   "cell_type": "code",
   "execution_count": null,
   "metadata": {
    "scrolled": true
   },
   "outputs": [],
   "source": [
    "# Create new dataframe for Per capita personal income\n",
    "filter1 = df['LineCode'] == 30\n",
    "df_per_capita = df[filter1]\n",
    "df_per_capita.head()"
   ]
  },
  {
   "cell_type": "code",
   "execution_count": null,
   "metadata": {},
   "outputs": [],
   "source": [
    "# Save as tab-delimited txt file for export to SSMS\n",
    "df_per_capita.to_csv('./Updates/STG_BEA_Per_Capita_Personal_Income.txt', sep = '\\t')"
   ]
  },
  {
   "cell_type": "code",
   "execution_count": null,
   "metadata": {
    "scrolled": false
   },
   "outputs": [],
   "source": [
    "# Reset the index\n",
    "df_per_capita = df_per_capita.reset_index()"
   ]
  },
  {
   "cell_type": "code",
   "execution_count": null,
   "metadata": {},
   "outputs": [],
   "source": [
    "# Fill NaN values for upload to database\n",
    "column_list = df_per_capita.columns.values\n",
    "for i in column_list:\n",
    "    df_per_capita.loc[df_per_capita[i].isnull(),i]=0"
   ]
  },
  {
   "cell_type": "code",
   "execution_count": null,
   "metadata": {},
   "outputs": [],
   "source": [
    "df_per_capita.head()"
   ]
  },
  {
   "cell_type": "code",
   "execution_count": null,
   "metadata": {},
   "outputs": [],
   "source": [
    "# Drop old backup table\n",
    "c.execute('drop table STG_BEA_Per_Capita_Personal_Income_BACKUP')"
   ]
  },
  {
   "cell_type": "code",
   "execution_count": null,
   "metadata": {},
   "outputs": [],
   "source": [
    "# Create new backup\n",
    "c.execute('''sp_rename 'dbo.STG_BEA_Per_Capita_Personal_Income','STG_BEA_Per_Capita_Personal_Income_BACKUP';''')"
   ]
  },
  {
   "cell_type": "code",
   "execution_count": null,
   "metadata": {},
   "outputs": [],
   "source": [
    "# Create Per Capita table\n",
    "c.execute('''USE [STG2]\n",
    "\n",
    "SET ANSI_NULLS ON\n",
    "\n",
    "SET QUOTED_IDENTIFIER ON\n",
    "\n",
    "CREATE TABLE [dbo].[STG_BEA_Per_Capita_Personal_Income](\n",
    "\t[GeoFIPS] [varchar](12) NULL,\n",
    "\t[GeoName] [varchar](14) NULL,\n",
    "\t[Region] [real] NULL,\n",
    "\t[TableName] [varchar](7) NULL,\n",
    "\t[LineCode] [real] NULL,\n",
    "\t[IndustryClassification] [varchar](3) NULL,\n",
    "\t[Description] [varchar](38) NULL,\n",
    "\t[Unit] [varchar](20) NULL,\n",
    "\t[2001] [float] NULL,\n",
    "\t[2002] [float] NULL,\n",
    "\t[2003] [float] NULL,\n",
    "\t[2004] [float] NULL,\n",
    "\t[2005] [float] NULL,\n",
    "\t[2006] [float] NULL,\n",
    "\t[2007] [float] NULL,\n",
    "\t[2008] [float] NULL,\n",
    "\t[2009] [float] NULL,\n",
    "\t[2010] [float] NULL,\n",
    "\t[2011] [float] NULL,\n",
    "\t[2012] [float] NULL,\n",
    "\t[2013] [float] NULL,\n",
    "\t[2014] [float] NULL,\n",
    "\t[2015] [float] NULL,\n",
    "\t[2016] [float] NULL,\n",
    "\t[2017] [float] NULL,\n",
    "\t[2018] [float] NULL,\n",
    "    [2019] [float] NULL,\n",
    "    [2020] [float] NULL,\n",
    "    [2021] [float] NULL,\n",
    "    [2022] [float] NULL,\n",
    "    [2023] [float] NULL,\n",
    "    [2024] [float] NULL,\n",
    "    [2025] [float] NULL\n",
    ") ON [PRIMARY]''')"
   ]
  },
  {
   "cell_type": "code",
   "execution_count": null,
   "metadata": {},
   "outputs": [],
   "source": [
    "params = urllib.parse.quote_plus(r'Driver={SQL Server};' \n",
    "                                 r'Server=STEIN\\ECONDEV;'\n",
    "                                 r'Database=STG2;'\n",
    "                                 r'Trusted_Connection=yes;')\n",
    "\n",
    "engine = create_engine(\"mssql+pyodbc:///?odbc_connect=%s\" % params)\n",
    "\n",
    "#df: pandas.dataframe; mTableName:table name in MS SQL\n",
    "#warning: discard old table if exists\n",
    "df_per_capita.to_sql('STG_BEA_Per_Capita_Personal_Income', con=engine, if_exists='replace', index=False)"
   ]
  },
  {
   "cell_type": "markdown",
   "metadata": {},
   "source": [
    "# Create Earnings by Place of Work"
   ]
  },
  {
   "cell_type": "code",
   "execution_count": null,
   "metadata": {},
   "outputs": [],
   "source": [
    "print('Done. Updating Earnings by Place of Work...')"
   ]
  },
  {
   "cell_type": "code",
   "execution_count": null,
   "metadata": {},
   "outputs": [],
   "source": [
    "# Create Backups\n",
    "df_e_backup = pd.read_csv('./Updates/STG_BEA_Earnings_by_Place_of_Work.txt', encoding = 'ISO-8859-1', sep='\\t')\n",
    "df_e_backup.to_csv('./Backups/STG_BEA_Earnings_by_Place_of_Work_BACKUP.txt')"
   ]
  },
  {
   "cell_type": "code",
   "execution_count": null,
   "metadata": {
    "scrolled": true
   },
   "outputs": [],
   "source": [
    "# Create a new dataframe for Earnings by place of work\n",
    "filter1 = df['LineCode'] == 35\n",
    "df_earnings = df[filter1]"
   ]
  },
  {
   "cell_type": "code",
   "execution_count": null,
   "metadata": {},
   "outputs": [],
   "source": [
    "# Save as tab-delimited txt file for export to SSMS\n",
    "df_earnings.to_csv('./Updates/STG_BEA_Earnings_by_Place_of_Work.txt', sep = '\\t')"
   ]
  },
  {
   "cell_type": "code",
   "execution_count": null,
   "metadata": {},
   "outputs": [],
   "source": [
    "# Reset the index\n",
    "df_earnings = df_earnings.reset_index()"
   ]
  },
  {
   "cell_type": "code",
   "execution_count": null,
   "metadata": {},
   "outputs": [],
   "source": [
    "# Fill NaN values for upload to database\n",
    "column_list = df_earnings.columns.values\n",
    "for i in column_list:\n",
    "    df_earnings.loc[df_earnings[i].isnull(),i]=0"
   ]
  },
  {
   "cell_type": "code",
   "execution_count": null,
   "metadata": {},
   "outputs": [],
   "source": [
    "# Drop old backup table\n",
    "c.execute('drop table STG_BEA_Earnings_by_Place_of_Work_BACKUP')"
   ]
  },
  {
   "cell_type": "code",
   "execution_count": null,
   "metadata": {},
   "outputs": [],
   "source": [
    "# Create new backup\n",
    "c.execute('''sp_rename 'dbo.STG_BEA_Earnings_by_Place_of_Work','STG_BEA_Earnings_by_Place_of_Work_BACKUP';''')"
   ]
  },
  {
   "cell_type": "code",
   "execution_count": null,
   "metadata": {},
   "outputs": [],
   "source": [
    "# Create Earnings table\n",
    "c.execute('''USE [STG2]\n",
    "\n",
    "SET ANSI_NULLS ON\n",
    "\n",
    "SET QUOTED_IDENTIFIER ON\n",
    "\n",
    "CREATE TABLE [dbo].[STG_BEA_Earnings_by_Place_of_Work](\n",
    "\t[GeoFIPS] [varchar](12) NULL,\n",
    "\t[GeoName] [varchar](14) NULL,\n",
    "\t[Region] [real] NULL,\n",
    "\t[TableName] [varchar](7) NULL,\n",
    "\t[LineCode] [real] NULL,\n",
    "\t[IndustryClassification] [varchar](3) NULL,\n",
    "\t[Description] [varchar](38) NULL,\n",
    "\t[Unit] [varchar](20) NULL,\n",
    "\t[2001] [float] NULL,\n",
    "\t[2002] [float] NULL,\n",
    "\t[2003] [float] NULL,\n",
    "\t[2004] [float] NULL,\n",
    "\t[2005] [float] NULL,\n",
    "\t[2006] [float] NULL,\n",
    "\t[2007] [float] NULL,\n",
    "\t[2008] [float] NULL,\n",
    "\t[2009] [float] NULL,\n",
    "\t[2010] [float] NULL,\n",
    "\t[2011] [float] NULL,\n",
    "\t[2012] [float] NULL,\n",
    "\t[2013] [float] NULL,\n",
    "\t[2014] [float] NULL,\n",
    "\t[2015] [float] NULL,\n",
    "\t[2016] [float] NULL,\n",
    "\t[2017] [float] NULL,\n",
    "\t[2018] [float] NULL,\n",
    "    [2019] [float] NULL,\n",
    "    [2020] [float] NULL,\n",
    "    [2021] [float] NULL,\n",
    "    [2022] [float] NULL,\n",
    "    [2023] [float] NULL,\n",
    "    [2024] [float] NULL,\n",
    "    [2025] [float] NULL\n",
    ") ON [PRIMARY]''')"
   ]
  },
  {
   "cell_type": "code",
   "execution_count": null,
   "metadata": {},
   "outputs": [],
   "source": [
    "params = urllib.parse.quote_plus(r'Driver={SQL Server};' \n",
    "                                 r'Server=STEIN\\ECONDEV;'\n",
    "                                 r'Database=STG2;'\n",
    "                                 r'Trusted_Connection=yes;')\n",
    "\n",
    "engine = create_engine(\"mssql+pyodbc:///?odbc_connect=%s\" % params)\n",
    "\n",
    "#df: pandas.dataframe; mTableName:table name in MS SQL\n",
    "#warning: discard old table if exists\n",
    "df_earnings.to_sql('STG_BEA_Earnings_by_Place_of_Work', con=engine, if_exists='replace', index=False)"
   ]
  },
  {
   "cell_type": "markdown",
   "metadata": {},
   "source": [
    "# Create Population"
   ]
  },
  {
   "cell_type": "code",
   "execution_count": null,
   "metadata": {},
   "outputs": [],
   "source": [
    "print('Done. Updating Population...')"
   ]
  },
  {
   "cell_type": "code",
   "execution_count": null,
   "metadata": {},
   "outputs": [],
   "source": [
    "# Create Backups\n",
    "df_pop_backup = pd.read_csv('./Updates/STG_BEA_Population.txt', encoding = 'ISO-8859-1', sep='\\t')\n",
    "df_pop_backup.to_csv('./Backups/STG_BEA_Population_BACKUP.txt')"
   ]
  },
  {
   "cell_type": "code",
   "execution_count": null,
   "metadata": {
    "scrolled": false
   },
   "outputs": [],
   "source": [
    "# Create a new dataframe for Population\n",
    "filter1 = df['LineCode'] == 20\n",
    "df_population = df[filter1]"
   ]
  },
  {
   "cell_type": "code",
   "execution_count": null,
   "metadata": {
    "scrolled": false
   },
   "outputs": [],
   "source": [
    "# Clean Description column\n",
    "df_population.loc[:,'Description'] = df_population['Description'].str.strip('2/')"
   ]
  },
  {
   "cell_type": "code",
   "execution_count": null,
   "metadata": {},
   "outputs": [],
   "source": [
    "# Save as tab-delimited txt file for export to SSMS\n",
    "df_population.to_csv('./Updates/STG_BEA_Population.txt', sep = '\\t')"
   ]
  },
  {
   "cell_type": "code",
   "execution_count": null,
   "metadata": {},
   "outputs": [],
   "source": [
    "# Reset the index\n",
    "df_population = df_population.reset_index()"
   ]
  },
  {
   "cell_type": "code",
   "execution_count": null,
   "metadata": {},
   "outputs": [],
   "source": [
    "# Fill NaN values for upload to database\n",
    "column_list = df_population.columns.values\n",
    "for i in column_list:\n",
    "    df_population.loc[df_population[i].isnull(),i]=0"
   ]
  },
  {
   "cell_type": "code",
   "execution_count": null,
   "metadata": {},
   "outputs": [],
   "source": [
    "# Drop old backup table\n",
    "c.execute('drop table STG_BEA_Population_BACKUP')"
   ]
  },
  {
   "cell_type": "code",
   "execution_count": null,
   "metadata": {},
   "outputs": [],
   "source": [
    "# Create new backup\n",
    "c.execute('''sp_rename 'dbo.STG_BEA_Population','STG_BEA_Population_BACKUP';''')"
   ]
  },
  {
   "cell_type": "code",
   "execution_count": null,
   "metadata": {},
   "outputs": [],
   "source": [
    "# Create Population table\n",
    "c.execute('''USE [STG2]\n",
    "\n",
    "SET ANSI_NULLS ON\n",
    "\n",
    "SET QUOTED_IDENTIFIER ON\n",
    "\n",
    "CREATE TABLE [dbo].[STG_BEA_Population](\n",
    "\t[GeoFIPS] [varchar](12) NULL,\n",
    "\t[GeoName] [varchar](14) NULL,\n",
    "\t[Region] [real] NULL,\n",
    "\t[TableName] [varchar](7) NULL,\n",
    "\t[LineCode] [real] NULL,\n",
    "\t[IndustryClassification] [varchar](3) NULL,\n",
    "\t[Description] [varchar](38) NULL,\n",
    "\t[Unit] [varchar](20) NULL,\n",
    "\t[2001] [float] NULL,\n",
    "\t[2002] [float] NULL,\n",
    "\t[2003] [float] NULL,\n",
    "\t[2004] [float] NULL,\n",
    "\t[2005] [float] NULL,\n",
    "\t[2006] [float] NULL,\n",
    "\t[2007] [float] NULL,\n",
    "\t[2008] [float] NULL,\n",
    "\t[2009] [float] NULL,\n",
    "\t[2010] [float] NULL,\n",
    "\t[2011] [float] NULL,\n",
    "\t[2012] [float] NULL,\n",
    "\t[2013] [float] NULL,\n",
    "\t[2014] [float] NULL,\n",
    "\t[2015] [float] NULL,\n",
    "\t[2016] [float] NULL,\n",
    "\t[2017] [float] NULL,\n",
    "\t[2018] [float] NULL,\n",
    "    [2019] [float] NULL,\n",
    "    [2020] [float] NULL,\n",
    "    [2021] [float] NULL,\n",
    "    [2022] [float] NULL,\n",
    "    [2023] [float] NULL,\n",
    "    [2024] [float] NULL,\n",
    "    [2025] [float] NULL\n",
    ") ON [PRIMARY]''')"
   ]
  },
  {
   "cell_type": "code",
   "execution_count": null,
   "metadata": {},
   "outputs": [],
   "source": [
    "params = urllib.parse.quote_plus(r'Driver={SQL Server};' \n",
    "                                 r'Server=STEIN\\ECONDEV;'\n",
    "                                 r'Database=STG2;'\n",
    "                                 r'Trusted_Connection=yes;')\n",
    "\n",
    "engine = create_engine(\"mssql+pyodbc:///?odbc_connect=%s\" % params)\n",
    "\n",
    "#df: pandas.dataframe; mTableName:table name in MS SQL\n",
    "#warning: discard old table if exists\n",
    "df_population.to_sql('STG_BEA_Population', con=engine, if_exists='replace', index=False)"
   ]
  },
  {
   "cell_type": "markdown",
   "metadata": {},
   "source": [
    "# Create Personal Income"
   ]
  },
  {
   "cell_type": "code",
   "execution_count": null,
   "metadata": {},
   "outputs": [],
   "source": [
    "print('Done. Updating Personal Income...')"
   ]
  },
  {
   "cell_type": "code",
   "execution_count": null,
   "metadata": {},
   "outputs": [],
   "source": [
    "# Create Backups\n",
    "df_i_backup = pd.read_csv('./Updates/STG_BEA_Personal_Income.txt', encoding = 'ISO-8859-1', sep='\\t')\n",
    "df_i_backup.to_csv('./Backups/STG_BEA_Personal_Income_BACKUP.txt')"
   ]
  },
  {
   "cell_type": "code",
   "execution_count": null,
   "metadata": {},
   "outputs": [],
   "source": [
    "# Create new dataframe for Personal Income\n",
    "filter1 = df['LineCode'] == 10\n",
    "df_income = df[filter1]"
   ]
  },
  {
   "cell_type": "code",
   "execution_count": null,
   "metadata": {},
   "outputs": [],
   "source": [
    "# Save as tab-delimited txt file for export to SSMS\n",
    "df_income.to_csv('./Updates/STG_BEA_Personal_Income.txt', sep = '\\t')"
   ]
  },
  {
   "cell_type": "code",
   "execution_count": null,
   "metadata": {},
   "outputs": [],
   "source": [
    "# Reset the index\n",
    "df_income = df_income.reset_index()"
   ]
  },
  {
   "cell_type": "code",
   "execution_count": null,
   "metadata": {},
   "outputs": [],
   "source": [
    "# Fill NaN values for upload to database\n",
    "column_list = df_income.columns.values\n",
    "for i in column_list:\n",
    "    df_income.loc[df_income[i].isnull(),i]=0"
   ]
  },
  {
   "cell_type": "code",
   "execution_count": null,
   "metadata": {},
   "outputs": [],
   "source": [
    "# Drop old backup table\n",
    "c.execute('drop table STG_BEA_Personal_Income_BACKUP')"
   ]
  },
  {
   "cell_type": "code",
   "execution_count": null,
   "metadata": {},
   "outputs": [],
   "source": [
    "# Create new backup\n",
    "c.execute('''sp_rename 'dbo.STG_BEA_Personal_Income','STG_BEA_Personal_Income_BACKUP';''')"
   ]
  },
  {
   "cell_type": "code",
   "execution_count": null,
   "metadata": {},
   "outputs": [],
   "source": [
    "# Create Personal Income Table\n",
    "c.execute('''USE [STG2]\n",
    "\n",
    "SET ANSI_NULLS ON\n",
    "\n",
    "SET QUOTED_IDENTIFIER ON\n",
    "\n",
    "CREATE TABLE [dbo].[STG_BEA_Personal_Income](\n",
    "\t[GeoFIPS] [varchar](12) NULL,\n",
    "\t[GeoName] [varchar](14) NULL,\n",
    "\t[Region] [real] NULL,\n",
    "\t[TableName] [varchar](7) NULL,\n",
    "\t[LineCode] [real] NULL,\n",
    "\t[IndustryClassification] [varchar](3) NULL,\n",
    "\t[Description] [varchar](38) NULL,\n",
    "\t[Unit] [varchar](20) NULL,\n",
    "\t[2001] [float] NULL,\n",
    "\t[2002] [float] NULL,\n",
    "\t[2003] [float] NULL,\n",
    "\t[2004] [float] NULL,\n",
    "\t[2005] [float] NULL,\n",
    "\t[2006] [float] NULL,\n",
    "\t[2007] [float] NULL,\n",
    "\t[2008] [float] NULL,\n",
    "\t[2009] [float] NULL,\n",
    "\t[2010] [float] NULL,\n",
    "\t[2011] [float] NULL,\n",
    "\t[2012] [float] NULL,\n",
    "\t[2013] [float] NULL,\n",
    "\t[2014] [float] NULL,\n",
    "\t[2015] [float] NULL,\n",
    "\t[2016] [float] NULL,\n",
    "\t[2017] [float] NULL,\n",
    "\t[2018] [float] NULL,\n",
    "    [2019] [float] NULL,\n",
    "    [2020] [float] NULL,\n",
    "    [2021] [float] NULL,\n",
    "    [2022] [float] NULL,\n",
    "    [2023] [float] NULL,\n",
    "    [2024] [float] NULL,\n",
    "    [2025] [float] NULL\n",
    ") ON [PRIMARY]''')"
   ]
  },
  {
   "cell_type": "code",
   "execution_count": null,
   "metadata": {},
   "outputs": [],
   "source": [
    "params = urllib.parse.quote_plus(r'Driver={SQL Server};' \n",
    "                                 r'Server=STEIN\\ECONDEV;'\n",
    "                                 r'Database=STG2;'\n",
    "                                 r'Trusted_Connection=yes;')\n",
    "\n",
    "engine = create_engine(\"mssql+pyodbc:///?odbc_connect=%s\" % params)\n",
    "\n",
    "#df: pandas.dataframe; mTableName:table name in MS SQL\n",
    "#warning: discard old table if exists\n",
    "df_income.to_sql('STG_BEA_Personal_Income', con=engine, if_exists='replace', index=False)"
   ]
  }
 ],
 "metadata": {
  "kernelspec": {
   "display_name": "Python 3",
   "language": "python",
   "name": "python3"
  },
  "language_info": {
   "codemirror_mode": {
    "name": "ipython",
    "version": 3
   },
   "file_extension": ".py",
   "mimetype": "text/x-python",
   "name": "python",
   "nbconvert_exporter": "python",
   "pygments_lexer": "ipython3",
   "version": "3.7.6"
  }
 },
 "nbformat": 4,
 "nbformat_minor": 2
}
