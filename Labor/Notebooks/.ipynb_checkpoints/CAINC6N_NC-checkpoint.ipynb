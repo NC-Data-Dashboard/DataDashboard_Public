{
 "cells": [
  {
   "cell_type": "code",
   "execution_count": null,
   "metadata": {},
   "outputs": [],
   "source": [
    "# Imports\n",
    "import pandas as pd\n",
    "import requests\n",
    "from io import BytesIO, StringIO\n",
    "from zipfile import ZipFile\n",
    "import pyodbc\n",
    "import sqlalchemy\n",
    "from sqlalchemy import create_engine\n",
    "import urllib\n",
    "import numpy as np"
   ]
  },
  {
   "cell_type": "code",
   "execution_count": null,
   "metadata": {},
   "outputs": [],
   "source": [
    "# Watermark\n",
    "print('Nathan Young\\nJunior Data Analyst\\nCenter for the Study of Free Enterprise')\n",
    "%load_ext watermark\n",
    "%watermark -a \"Western Carolina University\" -u -d -p pandas"
   ]
  },
  {
   "cell_type": "code",
   "execution_count": null,
   "metadata": {},
   "outputs": [],
   "source": [
    "# Create Backups\n",
    "df_backup = pd.read_csv('./Updates/STG_BEA_CAINC6N_NC.txt', encoding = 'ISO-8859-1', sep = \"\\t\")\n",
    "df_backup.to_csv('./Backups/STG_BEA_CAINC6N_NC_BACKUP.txt')"
   ]
  },
  {
   "cell_type": "code",
   "execution_count": null,
   "metadata": {},
   "outputs": [],
   "source": [
    "# Load BEA CAINC6N_NC data\n",
    "response = requests.get('https://apps.bea.gov/regional/zip/CAINC6N.zip')\n",
    "zip_file = ZipFile(BytesIO(response.content))\n",
    "files = zip_file.namelist()\n",
    "with zip_file.open(files[34]) as csvfile:\n",
    "    df = pd.read_csv(csvfile, encoding='ISO-8859-1', sep=\",\")"
   ]
  },
  {
   "cell_type": "code",
   "execution_count": null,
   "metadata": {},
   "outputs": [],
   "source": [
    "# Check for non-data fields\n",
    "df.tail(10)"
   ]
  },
  {
   "cell_type": "code",
   "execution_count": null,
   "metadata": {
    "scrolled": true
   },
   "outputs": [],
   "source": [
    "# Remove unused fields\n",
    "df.drop(df.tail(3).index,inplace=True)\n",
    "df.tail()"
   ]
  },
  {
   "cell_type": "code",
   "execution_count": null,
   "metadata": {},
   "outputs": [],
   "source": [
    "#Clean GeoFIPS\n",
    "df['GeoFIPS'] = df['GeoFIPS'].replace({\"\":''})\n",
    "df"
   ]
  },
  {
   "cell_type": "code",
   "execution_count": null,
   "metadata": {},
   "outputs": [],
   "source": [
    "# Set GeoFIPS as Index\n",
    "df.set_index(df['GeoFIPS'], inplace = True)\n",
    "df.head()"
   ]
  },
  {
   "cell_type": "code",
   "execution_count": null,
   "metadata": {},
   "outputs": [],
   "source": [
    "# Drop GeoFIPS column \n",
    "df.drop('GeoFIPS', axis = 1, inplace = True)\n",
    "df.head()"
   ]
  },
  {
   "cell_type": "code",
   "execution_count": null,
   "metadata": {},
   "outputs": [],
   "source": [
    "# Save as tab-delimited txt file for export to SSMS\n",
    "df_clean.to_csv('./Updates/STG_BEA_CAINC6N_NC.txt', sep = '\\t')"
   ]
  },
  {
   "cell_type": "code",
   "execution_count": null,
   "metadata": {},
   "outputs": [],
   "source": [
    "#Reset Index for upload to database\n",
    "df = df.reset_index()    "
   ]
  },
  {
   "cell_type": "code",
   "execution_count": null,
   "metadata": {},
   "outputs": [],
   "source": [
    "#Fill NaN values for upload to database\n",
    "column_list = df.columns.values\n",
    "for i in column_list:\n",
    "    df.loc[df[i].isnull(),i]=0"
   ]
  },
  {
   "cell_type": "code",
   "execution_count": null,
   "metadata": {},
   "outputs": [],
   "source": [
    "#Connect to database and create cursor\n",
    "con = pyodbc.connect('Driver={SQL Server};'\n",
    "                      'Server=TITANIUM-BOOK;'\n",
    "                      'Database=DataDashboard;'\n",
    "                      'Trusted_Connection=yes;',\n",
    "                    autocommit=True)\n",
    "\n",
    "c = con.cursor()"
   ]
  },
  {
   "cell_type": "code",
   "execution_count": null,
   "metadata": {},
   "outputs": [],
   "source": [
    "#Drop old backup table\n",
    "c.execute('drop table STG_BEA_CAINC6N_NC_BACKUP')"
   ]
  },
  {
   "cell_type": "code",
   "execution_count": null,
   "metadata": {},
   "outputs": [],
   "source": [
    "#Create new backup\n",
    "c.execute('''sp_rename 'dbo.STG_BEA_CAINC6N_NC','STG_BEA_CAINC6N_NC_BACKUP';''')"
   ]
  },
  {
   "cell_type": "code",
   "execution_count": null,
   "metadata": {},
   "outputs": [],
   "source": [
    "c.execute('''USE [DataDashboard]\n",
    "\n",
    "SET ANSI_NULLS ON\n",
    "\n",
    "SET QUOTED_IDENTIFIER ON\n",
    "\n",
    "CREATE TABLE [dbo].[STG_BEA_CAINC6N_NC](\n",
    "\t[GeoFIPS] [varchar](12) NULL,\n",
    "\t[GeoName] [varchar](14) NULL,\n",
    "\t[Region] [real] NULL,\n",
    "\t[TableName] [varchar](7) NULL,\n",
    "\t[LineCode] [real] NULL,\n",
    "\t[IndustryClassification] [varchar](3) NULL,\n",
    "\t[Description] [varchar](38) NULL,\n",
    "\t[Unit] [varchar](20) NULL,\n",
    "\t[2001] [float] NULL,\n",
    "\t[2002] [float] NULL,\n",
    "\t[2003] [float] NULL,\n",
    "\t[2004] [float] NULL,\n",
    "\t[2005] [float] NULL,\n",
    "\t[2006] [float] NULL,\n",
    "\t[2007] [float] NULL,\n",
    "\t[2008] [float] NULL,\n",
    "\t[2009] [float] NULL,\n",
    "\t[2010] [float] NULL,\n",
    "\t[2011] [float] NULL,\n",
    "\t[2012] [float] NULL,\n",
    "\t[2013] [float] NULL,\n",
    "\t[2014] [float] NULL,\n",
    "\t[2015] [float] NULL,\n",
    "\t[2016] [float] NULL,\n",
    "\t[2017] [float] NULL,\n",
    "\t[2018] [float] NULL,\n",
    "    [2019] [float] NULL,\n",
    "    [2020] [float] NULL,\n",
    "    [2021] [float] NULL,\n",
    "    [2022] [float] NULL,\n",
    "    [2023] [float] NULL,\n",
    "    [2024] [float] NULL,\n",
    "    [2025] [float] NULL\n",
    ") ON [PRIMARY]''')"
   ]
  },
  {
   "cell_type": "code",
   "execution_count": null,
   "metadata": {},
   "outputs": [],
   "source": [
    "params = urllib.parse.quote_plus(r'Driver={SQL Server};' \n",
    "                                 r'Server=TITANIUM-BOOK;'\n",
    "                                 r'Database=DataDashboard;'\n",
    "                                 r'Trusted_Connection=yes;')\n",
    "\n",
    "engine = create_engine(\"mssql+pyodbc:///?odbc_connect=%s\" % params)\n",
    "\n",
    "#df: pandas.dataframe; mTableName:table name in MS SQL\n",
    "#warning: discard old table if exists\n",
    "df.to_sql('STG_BEA_CAINC6N_NC', con=engine, if_exists='replace', index=False)"
   ]
  }
 ],
 "metadata": {
  "kernelspec": {
   "display_name": "Python 3",
   "language": "python",
   "name": "python3"
  },
  "language_info": {
   "codemirror_mode": {
    "name": "ipython",
    "version": 3
   },
   "file_extension": ".py",
   "mimetype": "text/x-python",
   "name": "python",
   "nbconvert_exporter": "python",
   "pygments_lexer": "ipython3",
   "version": "3.7.6"
  }
 },
 "nbformat": 4,
 "nbformat_minor": 2
}
