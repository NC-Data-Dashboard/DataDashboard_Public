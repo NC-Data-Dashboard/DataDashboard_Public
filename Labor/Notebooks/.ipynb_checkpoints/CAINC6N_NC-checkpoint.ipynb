{
 "cells": [
  {
   "cell_type": "code",
   "execution_count": null,
   "metadata": {},
   "outputs": [],
   "source": [
    "# Imports\n",
    "import pandas as pd\n",
    "import requests\n",
    "from io import BytesIO, StringIO\n",
    "from zipfile import ZipFile"
   ]
  },
  {
   "cell_type": "code",
   "execution_count": null,
   "metadata": {},
   "outputs": [],
   "source": [
    "# Watermark\n",
    "print('Nathan Young\\nJunior Data Analyst\\nCenter for the Study of Free Enterprise')\n",
    "%load_ext watermark\n",
    "%watermark -a \"Western Carolina University\" -u -d -p pandas"
   ]
  },
  {
   "cell_type": "code",
   "execution_count": null,
   "metadata": {},
   "outputs": [],
   "source": [
    "# Create Backups\n",
    "df_backup = pd.read_csv('./Updates/STG_BEA_CAINC6N_NC.txt', encoding = 'ISO-8859-1', sep = \"\\t\")\n",
    "df_backup.to_csv('./Backups/STG_BEA_CAINC6N_NC_BACKUP.txt')"
   ]
  },
  {
   "cell_type": "code",
   "execution_count": null,
   "metadata": {},
   "outputs": [],
   "source": [
    "# Load BEA CAINC6N_NC data\n",
    "response = requests.get('https://apps.bea.gov/regional/zip/CAINC6N.zip')\n",
    "zip_file = ZipFile(BytesIO(response.content))\n",
    "files = zip_file.namelist()\n",
    "with zip_file.open(files[34]) as csvfile:\n",
    "    df = pd.read_csv(csvfile, encoding='ISO-8859-1', sep=\",\")"
   ]
  },
  {
   "cell_type": "code",
   "execution_count": null,
   "metadata": {},
   "outputs": [],
   "source": [
    "# Check for non-data fields\n",
    "df.tail(10)"
   ]
  },
  {
   "cell_type": "code",
   "execution_count": null,
   "metadata": {
    "scrolled": true
   },
   "outputs": [],
   "source": [
    "# Remove non-data fields\n",
    "df_clean = df[:-3]\n",
    "df_clean.tail(5)"
   ]
  },
  {
   "cell_type": "code",
   "execution_count": null,
   "metadata": {},
   "outputs": [],
   "source": [
    "# Set GeoFIPS as Index\n",
    "df_clean.set_index(df_clean['GeoFIPS'], inplace = True)\n",
    "df_clean.head()"
   ]
  },
  {
   "cell_type": "code",
   "execution_count": null,
   "metadata": {},
   "outputs": [],
   "source": [
    "# Drop GeoFIPS column \n",
    "df_clean.drop('GeoFIPS', axis = 1, inplace = True)\n",
    "df_clean"
   ]
  },
  {
   "cell_type": "code",
   "execution_count": null,
   "metadata": {},
   "outputs": [],
   "source": [
    "# Save as tab-delimited txt file for export to SSMS\n",
    "df_clean.to_csv('./Updates/STG_BEA_CAINC6N_NC.txt', sep = '\\t')"
   ]
  }
 ],
 "metadata": {
  "kernelspec": {
   "display_name": "Python 3",
   "language": "python",
   "name": "python3"
  },
  "language_info": {
   "codemirror_mode": {
    "name": "ipython",
    "version": 3
   },
   "file_extension": ".py",
   "mimetype": "text/x-python",
   "name": "python",
   "nbconvert_exporter": "python",
   "pygments_lexer": "ipython3",
   "version": "3.8.1"
  }
 },
 "nbformat": 4,
 "nbformat_minor": 2
}
