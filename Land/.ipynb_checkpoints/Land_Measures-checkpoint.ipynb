{
 "cells": [
  {
   "cell_type": "code",
   "execution_count": 1,
   "metadata": {},
   "outputs": [],
   "source": [
    "import pandas as pd"
   ]
  },
  {
   "cell_type": "code",
   "execution_count": 5,
   "metadata": {},
   "outputs": [
    {
     "data": {
      "text/html": [
       "<div>\n",
       "<style scoped>\n",
       "    .dataframe tbody tr th:only-of-type {\n",
       "        vertical-align: middle;\n",
       "    }\n",
       "\n",
       "    .dataframe tbody tr th {\n",
       "        vertical-align: top;\n",
       "    }\n",
       "\n",
       "    .dataframe thead th {\n",
       "        text-align: right;\n",
       "    }\n",
       "</style>\n",
       "<table border=\"1\" class=\"dataframe\">\n",
       "  <thead>\n",
       "    <tr style=\"text-align: right;\">\n",
       "      <th></th>\n",
       "      <th>Measure_Business_Key</th>\n",
       "      <th>Record_Source</th>\n",
       "      <th>Measure_Authority</th>\n",
       "      <th>Measure_TableID</th>\n",
       "      <th>Measure_Table_Line_Number</th>\n",
       "      <th>Measure_Group_Name</th>\n",
       "      <th>Measure_Name</th>\n",
       "      <th>Measure_Category</th>\n",
       "      <th>Observation_Frequency</th>\n",
       "      <th>Unit_of_Measure_Code</th>\n",
       "      <th>...</th>\n",
       "      <th>Source_Citation</th>\n",
       "      <th>Accessed_Date</th>\n",
       "      <th>Vintage</th>\n",
       "      <th>Revised_Data_Period</th>\n",
       "      <th>New_Data_Period</th>\n",
       "      <th>WNCD_Notes</th>\n",
       "      <th>Table_Note_ID</th>\n",
       "      <th>Table_Notes</th>\n",
       "      <th>Table_Line_Note_ID</th>\n",
       "      <th>Table_Line_Notes</th>\n",
       "    </tr>\n",
       "  </thead>\n",
       "  <tbody>\n",
       "    <tr>\n",
       "      <th>0</th>\n",
       "      <td>FRED_HOWNRATEACS0_00000</td>\n",
       "      <td>FRED</td>\n",
       "      <td>FRED</td>\n",
       "      <td>HOWNRATEACS0</td>\n",
       "      <td>0000</td>\n",
       "      <td>Homeownership Rate by County (Rate)\\n</td>\n",
       "      <td>Homeownership Rate by County (Rate)\\n</td>\n",
       "      <td>Regional</td>\n",
       "      <td>YR</td>\n",
       "      <td>RATE</td>\n",
       "      <td>...</td>\n",
       "      <td>Source: Federal Reserve Bank of St. Louis: htt...</td>\n",
       "      <td>2019-02-05</td>\n",
       "      <td>Date Last Updated by FRED is Uncertain</td>\n",
       "      <td>NaN</td>\n",
       "      <td>Dec 30 1899 12:00AM</td>\n",
       "      <td>Downloaded file: GeoFRED_Homeownership_Rate_by...</td>\n",
       "      <td>NaN</td>\n",
       "      <td>NaN</td>\n",
       "      <td>NaN</td>\n",
       "      <td>NaN</td>\n",
       "    </tr>\n",
       "    <tr>\n",
       "      <th>1</th>\n",
       "      <td>ZLLW_CNTY_ZHVI0</td>\n",
       "      <td>ZLLW</td>\n",
       "      <td>ZLLW</td>\n",
       "      <td>CNTY</td>\n",
       "      <td>ZHVI0</td>\n",
       "      <td>Zillow County Statistics</td>\n",
       "      <td>Zillow House Value Index</td>\n",
       "      <td>Regional</td>\n",
       "      <td>MM</td>\n",
       "      <td>INDEX</td>\n",
       "      <td>...</td>\n",
       "      <td>The Zillow House Value Index is a data series ...</td>\n",
       "      <td>2019-12-01</td>\n",
       "      <td>Last updated by Zillow 12/1/19. Uploaded to WN...</td>\n",
       "      <td>All</td>\n",
       "      <td>Oct  1 2019 12:00AM</td>\n",
       "      <td>Zillow Research Data section on Zillow.com; Co...</td>\n",
       "      <td>NaN</td>\n",
       "      <td>NaN</td>\n",
       "      <td>NaN</td>\n",
       "      <td>NaN</td>\n",
       "    </tr>\n",
       "  </tbody>\n",
       "</table>\n",
       "<p>2 rows × 28 columns</p>\n",
       "</div>"
      ],
      "text/plain": [
       "      Measure_Business_Key Record_Source Measure_Authority Measure_TableID  \\\n",
       "0  FRED_HOWNRATEACS0_00000         FRED               FRED    HOWNRATEACS0   \n",
       "1          ZLLW_CNTY_ZHVI0         ZLLW               ZLLW            CNTY   \n",
       "\n",
       "  Measure_Table_Line_Number                     Measure_Group_Name  \\\n",
       "0                      0000  Homeownership Rate by County (Rate)\\n   \n",
       "1                     ZHVI0              Zillow County Statistics    \n",
       "\n",
       "                            Measure_Name Measure_Category  \\\n",
       "0  Homeownership Rate by County (Rate)\\n         Regional   \n",
       "1              Zillow House Value Index          Regional   \n",
       "\n",
       "  Observation_Frequency Unit_of_Measure_Code  ...  \\\n",
       "0                    YR                RATE   ...   \n",
       "1                    MM                INDEX  ...   \n",
       "\n",
       "                                     Source_Citation  Accessed_Date  \\\n",
       "0  Source: Federal Reserve Bank of St. Louis: htt...     2019-02-05   \n",
       "1  The Zillow House Value Index is a data series ...     2019-12-01   \n",
       "\n",
       "                                             Vintage  Revised_Data_Period  \\\n",
       "0             Date Last Updated by FRED is Uncertain                  NaN   \n",
       "1  Last updated by Zillow 12/1/19. Uploaded to WN...                  All   \n",
       "\n",
       "       New_Data_Period                                         WNCD_Notes  \\\n",
       "0  Dec 30 1899 12:00AM  Downloaded file: GeoFRED_Homeownership_Rate_by...   \n",
       "1  Oct  1 2019 12:00AM  Zillow Research Data section on Zillow.com; Co...   \n",
       "\n",
       "  Table_Note_ID Table_Notes Table_Line_Note_ID Table_Line_Notes  \n",
       "0           NaN         NaN                NaN              NaN  \n",
       "1           NaN         NaN                NaN              NaN  \n",
       "\n",
       "[2 rows x 28 columns]"
      ]
     },
     "execution_count": 5,
     "metadata": {},
     "output_type": "execute_result"
    }
   ],
   "source": [
    "df = pd.read_excel('./Land_MeasureDefn.xlsx')\n",
    "df.head(2)"
   ]
  },
  {
   "cell_type": "code",
   "execution_count": 6,
   "metadata": {},
   "outputs": [
    {
     "data": {
      "text/plain": [
       "Index(['Measure_Business_Key', 'Record_Source', 'Measure_Authority',\n",
       "       'Measure_TableID', 'Measure_Table_Line_Number', 'Measure_Group_Name',\n",
       "       'Measure_Name', 'Measure_Category', 'Observation_Frequency',\n",
       "       'Unit_of_Measure_Code', 'Unit_of_Measure_Name', 'Default_Scale',\n",
       "       'Calculation_Type', 'Measure_Hierarchy_Level', 'Participates_In',\n",
       "       'NAICS_Industry_Code_Str', 'BEA_Industry_ID', 'BEA_GDP_Component_ID',\n",
       "       'Source_Citation', 'Accessed_Date', 'Vintage', 'Revised_Data_Period',\n",
       "       'New_Data_Period', 'WNCD_Notes', 'Table_Note_ID', 'Table_Notes',\n",
       "       'Table_Line_Note_ID', 'Table_Line_Notes'],\n",
       "      dtype='object')"
      ]
     },
     "execution_count": 6,
     "metadata": {},
     "output_type": "execute_result"
    }
   ],
   "source": [
    "df.columns"
   ]
  },
  {
   "cell_type": "code",
   "execution_count": 7,
   "metadata": {},
   "outputs": [
    {
     "data": {
      "text/plain": [
       "0   2019-02-05\n",
       "1   2019-12-01\n",
       "2   2019-12-01\n",
       "3   2019-12-01\n",
       "4   2019-12-01\n",
       "5   2019-02-05\n",
       "6   2019-02-05\n",
       "Name: Accessed_Date, dtype: datetime64[ns]"
      ]
     },
     "execution_count": 7,
     "metadata": {},
     "output_type": "execute_result"
    }
   ],
   "source": [
    "df['Accessed_Date']"
   ]
  },
  {
   "cell_type": "code",
   "execution_count": 8,
   "metadata": {},
   "outputs": [],
   "source": [
    "# library for dates?"
   ]
  },
  {
   "cell_type": "code",
   "execution_count": 11,
   "metadata": {},
   "outputs": [],
   "source": [
    "df.to_csv('STG_XLSX_MeasureDefn_WRK.txt', sep = '\\t')"
   ]
  }
 ],
 "metadata": {
  "language_info": {
   "codemirror_mode": {
    "name": "ipython",
    "version": 3
   },
   "file_extension": ".py",
   "mimetype": "text/x-python",
   "name": "python",
   "nbconvert_exporter": "python",
   "pygments_lexer": "ipython3",
   "version": "3.7.4"
  }
 },
 "nbformat": 4,
 "nbformat_minor": 2
}
