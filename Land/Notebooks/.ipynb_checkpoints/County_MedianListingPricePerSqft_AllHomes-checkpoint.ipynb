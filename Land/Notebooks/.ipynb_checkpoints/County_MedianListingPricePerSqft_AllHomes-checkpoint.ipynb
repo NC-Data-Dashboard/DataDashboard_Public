{
 "cells": [
  {
   "cell_type": "code",
   "execution_count": null,
   "metadata": {},
   "outputs": [],
   "source": [
    "#Imports\n",
    "import pandas as pd\n",
    "import pyodbc\n",
    "import sqlalchemy\n",
    "from sqlalchemy import create_engine\n",
    "import urllib\n",
    "import numpy as np"
   ]
  },
  {
   "cell_type": "code",
   "execution_count": null,
   "metadata": {},
   "outputs": [],
   "source": [
    "# Watermark\n",
    "print('Nathan Young\\nJunior Data Analyst\\nCenter for the Study of Free Enterprise')\n",
    "%load_ext watermark\n",
    "%watermark -a \"Western Carolina University\" -u -d -p pandas"
   ]
  },
  {
   "cell_type": "code",
   "execution_count": null,
   "metadata": {},
   "outputs": [],
   "source": [
    "# Create Backups\n",
    "df_backup = pd.read_csv('./Updates/STG_ZLLW_County_MedianListingPricePerSqft_AllHomes.txt')\n",
    "df_backup.to_csv('./Backups/STG_ZLLW_County_MedianListingPricePerSqft_AllHomes_BACKUP.txt')"
   ]
  },
  {
   "cell_type": "code",
   "execution_count": null,
   "metadata": {},
   "outputs": [],
   "source": [
    "#Load Land data\n",
    "df_mlsf = pd.read_csv('http://files.zillowstatic.com/research/public/County/County_MedianListingPricePerSqft_AllHomes.csv', \n",
    "                      encoding='ISO-8859-1')\n",
    "\n",
    "#Display table to ensure data loaded correctly\n",
    "df_mlsf.head()"
   ]
  },
  {
   "cell_type": "code",
   "execution_count": null,
   "metadata": {},
   "outputs": [],
   "source": [
    "#Filter data to NC\n",
    "filter1 = df_mlsf['State'] == \"NC\"\n",
    "df_mlsf_nc = df_mlsf[filter1]\n",
    "\n",
    "#Check to ensure filter worked\n",
    "df_mlsf_nc.head(5)"
   ]
  },
  {
   "cell_type": "code",
   "execution_count": null,
   "metadata": {},
   "outputs": [],
   "source": [
    "#View data types of dataframe\n",
    "df_mlsf_nc.dtypes"
   ]
  },
  {
   "cell_type": "code",
   "execution_count": null,
   "metadata": {
    "scrolled": true
   },
   "outputs": [],
   "source": [
    "#Change MunicipalCodeFIPS dtype to add leading 0's\n",
    "df_mlsf_nc.loc[ :, 'MunicipalCodeFIPS'] = df_mlsf_nc['MunicipalCodeFIPS'].astype(str)\n",
    "df_mlsf_nc.dtypes"
   ]
  },
  {
   "cell_type": "code",
   "execution_count": null,
   "metadata": {
    "scrolled": false
   },
   "outputs": [],
   "source": [
    "#Add leading 0's and check to ensure they were added\n",
    "df_mlsf_nc.loc[ :, 'MunicipalCodeFIPS'] = df_mlsf_nc['MunicipalCodeFIPS'].str.zfill(3)\n",
    "df_mlsf_nc.head(5)"
   ]
  },
  {
   "cell_type": "code",
   "execution_count": null,
   "metadata": {},
   "outputs": [],
   "source": [
    "# Set Index to Region Name\n",
    "df_mlsf_nc.set_index(df_mlsf_nc['RegionName'], inplace = True)\n",
    "df_mlsf_nc"
   ]
  },
  {
   "cell_type": "code",
   "execution_count": null,
   "metadata": {},
   "outputs": [],
   "source": [
    "# Drop Region Name column\n",
    "df_mlsf_nc.drop('RegionName', axis = 1, inplace = True)\n",
    "df_mlsf_nc"
   ]
  },
  {
   "cell_type": "code",
   "execution_count": null,
   "metadata": {},
   "outputs": [],
   "source": [
    "#Save to csv file for export in Excel\n",
    "df_mlsf_nc.to_csv('./Updates/STG_ZLLW_County_MedianListingPricePerSqf_AllHomes.txt', sep = '\\t')"
   ]
  },
  {
   "cell_type": "code",
   "execution_count": null,
   "metadata": {},
   "outputs": [],
   "source": [
    "#Reset Index for upload to database\n",
    "df_mlsf_nc = df_mlsf_nc.reset_index()    "
   ]
  },
  {
   "cell_type": "code",
   "execution_count": null,
   "metadata": {},
   "outputs": [],
   "source": [
    "#Fill NaN values for upload to database\n",
    "df_mlsf_nc['Metro'] = df_mlsf_nc['Metro'].replace(np.nan,'', regex=True)\n",
    "\n",
    "column_list = df_mlsf_nc.columns.values\n",
    "for i in column_list:\n",
    "    df_mlsf_nc.loc[df_mlsf_nc[i].isnull(),i]=0"
   ]
  },
  {
   "cell_type": "code",
   "execution_count": null,
   "metadata": {},
   "outputs": [],
   "source": [
    "#Connect to database and create cursor\n",
    "con = pyodbc.connect('Driver={SQL Server};'\n",
    "                      'Server=TITANIUM-BOOK;'\n",
    "                      'Database=DataDashboard;'\n",
    "                      'Trusted_Connection=yes;',\n",
    "                    autocommit=True)\n",
    "\n",
    "c = con.cursor()"
   ]
  },
  {
   "cell_type": "code",
   "execution_count": null,
   "metadata": {},
   "outputs": [],
   "source": [
    "#Drop old backup table\n",
    "c.execute('''drop table dbo.STG_ZLLW_County_MedianListingPricePerSqft_AllHomes_BACKUP;''')"
   ]
  },
  {
   "cell_type": "code",
   "execution_count": null,
   "metadata": {},
   "outputs": [],
   "source": [
    "c.execute('''sp_rename 'dbo.STG_ZLLW_County_MedianListingPricePerSqft_AllHomes','STG_ZLLW_County_MedianListingPricePerSqft_AllHomes_BACKUP';''')"
   ]
  },
  {
   "cell_type": "code",
   "execution_count": null,
   "metadata": {},
   "outputs": [],
   "source": [
    "c.execute('''USE [DataDashboard]\n",
    "\n",
    "SET ANSI_NULLS ON\n",
    "\n",
    "SET QUOTED_IDENTIFIER ON\n",
    "\n",
    "CREATE TABLE [dbo].[STG_ZLLW_County_MedianListingPricePerSqft_AllHomes](\n",
    "\t[RegionName] [varchar](40) NULL,\n",
    "\t[State] [varchar](2) NULL,\n",
    "\t[Metro] [varchar](40) NULL,\n",
    "\t[StateCodeFIPS] [varchar](2) NULL,\n",
    "\t[MunicipalCodeFIPS] [varchar](3) NULL,\n",
    "\t[SizeRank] [smallint] NULL,\n",
    "\t[2010-01] [float] NULL,\n",
    "\t[2010-02] [float] NULL,\n",
    "\t[2010-03] [float] NULL,\n",
    "\t[2010-04] [float] NULL,\n",
    "\t[2010-05] [float] NULL,\n",
    "\t[2010-06] [float] NULL,\n",
    "\t[2010-07] [float] NULL,\n",
    "\t[2010-08] [float] NULL,\n",
    "\t[2010-09] [float] NULL,\n",
    "\t[2010-10] [float] NULL,\n",
    "\t[2010-11] [float] NULL,\n",
    "\t[2010-12] [float] NULL,\n",
    "\t[2011-01] [float] NULL,\n",
    "\t[2011-02] [float] NULL,\n",
    "\t[2011-03] [float] NULL,\n",
    "\t[2011-04] [float] NULL,\n",
    "\t[2011-05] [float] NULL,\n",
    "\t[2011-06] [float] NULL,\n",
    "\t[2011-07] [float] NULL,\n",
    "\t[2011-08] [float] NULL,\n",
    "\t[2011-09] [float] NULL,\n",
    "\t[2011-10] [float] NULL,\n",
    "\t[2011-11] [float] NULL,\n",
    "\t[2011-12] [float] NULL,\n",
    "\t[2012-01] [float] NULL,\n",
    "\t[2012-02] [float] NULL,\n",
    "\t[2012-03] [float] NULL,\n",
    "\t[2012-04] [float] NULL,\n",
    "\t[2012-05] [float] NULL,\n",
    "\t[2012-06] [float] NULL,\n",
    "\t[2012-07] [float] NULL,\n",
    "\t[2012-08] [float] NULL,\n",
    "\t[2012-09] [float] NULL,\n",
    "\t[2012-10] [float] NULL,\n",
    "\t[2012-11] [float] NULL,\n",
    "\t[2012-12] [float] NULL,\n",
    "\t[2013-01] [float] NULL,\n",
    "\t[2013-02] [float] NULL,\n",
    "\t[2013-03] [float] NULL,\n",
    "\t[2013-04] [float] NULL,\n",
    "\t[2013-05] [float] NULL,\n",
    "\t[2013-06] [float] NULL,\n",
    "\t[2013-07] [float] NULL,\n",
    "\t[2013-08] [float] NULL,\n",
    "\t[2013-09] [float] NULL,\n",
    "\t[2013-10] [float] NULL,\n",
    "\t[2013-11] [float] NULL,\n",
    "\t[2013-12] [float] NULL,\n",
    "\t[2014-01] [float] NULL,\n",
    "\t[2014-02] [float] NULL,\n",
    "\t[2014-03] [float] NULL,\n",
    "\t[2014-04] [float] NULL,\n",
    "\t[2014-05] [float] NULL,\n",
    "\t[2014-06] [float] NULL,\n",
    "\t[2014-07] [float] NULL,\n",
    "\t[2014-08] [float] NULL,\n",
    "\t[2014-09] [float] NULL,\n",
    "\t[2014-10] [float] NULL,\n",
    "\t[2014-11] [float] NULL,\n",
    "\t[2014-12] [float] NULL,\n",
    "\t[2015-01] [float] NULL,\n",
    "\t[2015-02] [float] NULL,\n",
    "\t[2015-03] [float] NULL,\n",
    "\t[2015-04] [float] NULL,\n",
    "\t[2015-05] [float] NULL,\n",
    "\t[2015-06] [float] NULL,\n",
    "\t[2015-07] [float] NULL,\n",
    "\t[2015-08] [float] NULL,\n",
    "\t[2015-09] [float] NULL,\n",
    "\t[2015-10] [float] NULL,\n",
    "\t[2015-11] [float] NULL,\n",
    "\t[2015-12] [float] NULL,\n",
    "\t[2016-01] [float] NULL,\n",
    "\t[2016-02] [float] NULL,\n",
    "\t[2016-03] [float] NULL,\n",
    "\t[2016-04] [float] NULL,\n",
    "\t[2016-05] [float] NULL,\n",
    "\t[2016-06] [float] NULL,\n",
    "\t[2016-07] [float] NULL,\n",
    "\t[2016-08] [float] NULL,\n",
    "\t[2016-09] [float] NULL,\n",
    "\t[2016-10] [float] NULL,\n",
    "\t[2016-11] [float] NULL,\n",
    "\t[2016-12] [float] NULL,\n",
    "\t[2017-01] [float] NULL,\n",
    "\t[2017-02] [float] NULL,\n",
    "\t[2017-03] [float] NULL,\n",
    "\t[2017-04] [float] NULL,\n",
    "\t[2017-05] [float] NULL,\n",
    "\t[2017-06] [float] NULL,\n",
    "\t[2017-07] [float] NULL,\n",
    "\t[2017-08] [float] NULL,\n",
    "\t[2017-09] [float] NULL,\n",
    "\t[2017-10] [float] NULL,\n",
    "\t[2017-11] [float] NULL,\n",
    "\t[2017-12] [float] NULL,\n",
    "\t[2018-01] [float] NULL,\n",
    "\t[2018-02] [float] NULL,\n",
    "\t[2018-03] [float] NULL,\n",
    "\t[2018-04] [float] NULL,\n",
    "\t[2018-05] [float] NULL,\n",
    "\t[2018-06] [float] NULL,\n",
    "\t[2018-07] [float] NULL,\n",
    "\t[2018-08] [float] NULL,\n",
    "\t[2018-09] [float] NULL,\n",
    "\t[2018-10] [float] NULL,\n",
    "\t[2018-11] [float] NULL,\n",
    "\t[2018-12] [float] NULL,\n",
    "\t[2019-01] [float] NULL,\n",
    "\t[2019-02] [float] NULL,\n",
    "\t[2019-03] [float] NULL,\n",
    "\t[2019-04] [float] NULL,\n",
    "\t[2019-05] [float] NULL,\n",
    "\t[2019-06] [float] NULL,\n",
    "\t[2019-07] [float] NULL,\n",
    "\t[2019-08] [float] NULL,\n",
    "\t[2019-09] [float] NULL,\n",
    "\t[2019-10] [float] NULL,\n",
    "\t[2019-11] [float] NULL,\n",
    "\t[2019-12] [float] NULL,\n",
    "    [2020-01] [float] NULL,\n",
    "    [2020-02] [float] NULL,\n",
    "    [2020-03] [float] NULL,\n",
    "    [2020-04] [float] NULL,\n",
    "    [2020-05] [float] NULL,\n",
    "    [2020-06] [float] NULL,\n",
    "    [2020-07] [float] NULL,\n",
    "    [2020-08] [float] NULL,\n",
    "    [2020-09] [float] NULL,\n",
    "    [2020-10] [float] NULL,\n",
    "    [2020-11] [float] NULL,\n",
    "    [2020-12] [float] NULL\n",
    ") ON [PRIMARY]''')"
   ]
  },
  {
   "cell_type": "code",
   "execution_count": null,
   "metadata": {},
   "outputs": [],
   "source": [
    "params = urllib.parse.quote_plus(r'Driver={SQL Server};' \n",
    "                                 r'Server=TITANIUM-BOOK;'\n",
    "                                 r'Database=DataDashboard;'\n",
    "                                 r'Trusted_Connection=yes;')\n",
    "\n",
    "engine = create_engine(\"mssql+pyodbc:///?odbc_connect=%s\" % params)\n",
    "\n",
    "#df: pandas.dataframe; mTableName:table name in MS SQL\n",
    "#warning: discard old table if exists\n",
    "df_mlsf_nc.to_sql('STG_ZLLW_County_MedianListingPricePerSqft_AllHomes', con=engine, if_exists='replace', index=False)"
   ]
  }
 ],
 "metadata": {
  "kernelspec": {
   "display_name": "Python 3",
   "language": "python",
   "name": "python3"
  },
  "language_info": {
   "codemirror_mode": {
    "name": "ipython",
    "version": 3
   },
   "file_extension": ".py",
   "mimetype": "text/x-python",
   "name": "python",
   "nbconvert_exporter": "python",
   "pygments_lexer": "ipython3",
   "version": "3.7.6"
  }
 },
 "nbformat": 4,
 "nbformat_minor": 2
}
