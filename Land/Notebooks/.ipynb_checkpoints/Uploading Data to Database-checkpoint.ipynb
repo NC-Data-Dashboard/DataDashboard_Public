{
 "cells": [
  {
   "cell_type": "code",
   "execution_count": null,
   "metadata": {},
   "outputs": [],
   "source": [
    "#Imports\n",
    "import pyodbc"
   ]
  },
  {
   "cell_type": "code",
   "execution_count": null,
   "metadata": {
    "scrolled": true
   },
   "outputs": [],
   "source": [
    "#Connect to database and create cursor\n",
    "conn = pyodbc.connect('Driver={SQL Server};'\n",
    "                      'Server=TITANIUM-BOOK;'\n",
    "                      'Database=DataDashboard;'\n",
    "                      'Trusted_Connection=yes;')\n",
    "\n",
    "c = conn.cursor()"
   ]
  },
  {
   "cell_type": "code",
   "execution_count": null,
   "metadata": {
    "scrolled": true
   },
   "outputs": [],
   "source": [
    "#Verify data is in database\n",
    "c.execute('select top(1) * from dbo.STG_ZLLW_County_MedianListingPrice_AllHomes')\n",
    "for row in c:\n",
    "    print(row)"
   ]
  },
  {
   "cell_type": "code",
   "execution_count": null,
   "metadata": {},
   "outputs": [],
   "source": [
    "#Drop old backup table\n",
    "#c.execute('drop table STG_ZLLW_County_MedianListingPrice_AllHomes_BACKUP')"
   ]
  },
  {
   "cell_type": "code",
   "execution_count": null,
   "metadata": {
    "scrolled": false
   },
   "outputs": [],
   "source": [
    "#Verify backups are created\n",
    "c.execute('select top(1) * from dbo.STG_ZLLW_County_MedianListingPrice_AllHomes_BACKUP')\n",
    "for row in c:\n",
    "    print(row)"
   ]
  },
  {
   "cell_type": "code",
   "execution_count": null,
   "metadata": {},
   "outputs": [],
   "source": [
    "conn.close()"
   ]
  }
 ],
 "metadata": {
  "kernelspec": {
   "display_name": "Python 3",
   "language": "python",
   "name": "python3"
  },
  "language_info": {
   "codemirror_mode": {
    "name": "ipython",
    "version": 3
   },
   "file_extension": ".py",
   "mimetype": "text/x-python",
   "name": "python",
   "nbconvert_exporter": "python",
   "pygments_lexer": "ipython3",
   "version": "3.7.6"
  }
 },
 "nbformat": 4,
 "nbformat_minor": 4
}
