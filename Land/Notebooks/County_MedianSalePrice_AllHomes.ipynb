{
 "cells": [
  {
   "cell_type": "code",
   "execution_count": null,
   "metadata": {},
   "outputs": [],
   "source": [
    "#Imports\n",
    "import pandas as pd\n",
    "import pyodbc\n",
    "import sqlalchemy\n",
    "from sqlalchemy import create_engine\n",
    "import urllib\n",
    "import numpy as np"
   ]
  },
  {
   "cell_type": "code",
   "execution_count": null,
   "metadata": {
    "scrolled": true
   },
   "outputs": [],
   "source": [
    "# Create Backups\n",
    "df_backup = pd.read_csv('./Updates/STG_ZLLW_County_MedianSalePrice_AllHomes.txt')\n",
    "df_backup.to_csv('./Backups/STG_ZLLW_County_MedianSalePrice_AllHomes_BACKUP.txt')"
   ]
  },
  {
   "cell_type": "code",
   "execution_count": null,
   "metadata": {
    "scrolled": false
   },
   "outputs": [],
   "source": [
    "#Load Land data\n",
    "df = pd.read_csv('http://files.zillowstatic.com/research/public/County/Sale_Prices_County.csv',\n",
    "                     encoding='ISO-8859-1')"
   ]
  },
  {
   "cell_type": "code",
   "execution_count": null,
   "metadata": {
    "scrolled": true
   },
   "outputs": [],
   "source": [
    "df = df.drop(columns = ['RegionID'], axis = 1)"
   ]
  },
  {
   "cell_type": "code",
   "execution_count": null,
   "metadata": {
    "scrolled": true
   },
   "outputs": [],
   "source": [
    "#Filter data to NC\n",
    "filter1 = df['StateName'] == \"North Carolina\"\n",
    "df_nc = df[filter1]"
   ]
  },
  {
   "cell_type": "code",
   "execution_count": null,
   "metadata": {
    "scrolled": true
   },
   "outputs": [],
   "source": [
    "#Sort by Region Name\n",
    "df_nc = df_nc.sort_values('RegionName', ascending = True)"
   ]
  },
  {
   "cell_type": "code",
   "execution_count": null,
   "metadata": {
    "scrolled": true
   },
   "outputs": [],
   "source": [
    "df_fips = pd.read_csv('./FIPS_Codes.csv')"
   ]
  },
  {
   "cell_type": "code",
   "execution_count": null,
   "metadata": {},
   "outputs": [],
   "source": [
    "df_msp_nc = df_nc.set_index('RegionName').join(df_fips.set_index('RegionName'))"
   ]
  },
  {
   "cell_type": "code",
   "execution_count": null,
   "metadata": {
    "scrolled": true
   },
   "outputs": [],
   "source": [
    "#Change MunicipalCodeFIPS dtype to add leading 0's\n",
    "df_msp_nc.loc[ :, 'MunicipalCodeFIPS'] = df_msp_nc['MunicipalCodeFIPS'].astype(str)"
   ]
  },
  {
   "cell_type": "code",
   "execution_count": null,
   "metadata": {
    "scrolled": false
   },
   "outputs": [],
   "source": [
    "#Add leading 0's and check to ensure they were added\n",
    "df_msp_nc.loc[ :, 'MunicipalCodeFIPS'] = df_msp_nc['MunicipalCodeFIPS'].str.zfill(3)"
   ]
  },
  {
   "cell_type": "code",
   "execution_count": null,
   "metadata": {},
   "outputs": [],
   "source": [
    "columns = ['State','Metro','StateCodeFIPS','MunicipalCodeFIPS','SizeRank','2008-03','2008-04','2008-05','2008-06','2008-07','2008-08','2008-09','2008-10','2008-11','2008-12','2009-01','2009-02','2009-03','2009-04','2009-05','2009-06','2009-07','2009-08','2009-09','2009-10','2009-11','2009-12','2010-01','2010-02','2010-03','2010-04','2010-05','2010-06','2010-07','2010-08','2010-09','2010-10','2010-11','2010-12','2011-01','2011-02','2011-03','2011-04','2011-05','2011-06','2011-07','2011-08','2011-09','2011-10','2011-11','2011-12','2012-01','2012-02','2012-03','2012-04','2012-05','2012-06','2012-07','2012-08','2012-09','2012-10','2012-11','2012-12','2013-01','2013-02','2013-03','2013-04','2013-05','2013-06','2013-07','2013-08','2013-09','2013-10','2013-11','2013-12','2014-01','2014-02','2014-03','2014-04','2014-05','2014-06','2014-07','2014-08','2014-09','2014-10','2014-11','2014-12','2015-01','2015-02','2015-03','2015-04','2015-05','2015-06','2015-07','2015-08','2015-09','2015-10','2015-11', '2015-12','2016-01','2016-02','2016-03','2016-04','2016-05','2016-06','2016-07','2016-08','2016-09','2016-10','2016-11','2016-12','2017-01','2017-02','2017-03','2017-04','2017-05','2017-06','2017-07','2017-08','2017-09','2017-10','2017-11','2017-12','2018-01','2018-02','2018-03','2018-04','2018-05','2018-06','2018-07','2018-08','2018-09','2018-10','2018-11','2018-12','2019-01','2019-02','2019-03','2019-04','2019-05','2019-06','2019-07','2019-08','2019-09','2019-10','2019-11','2019-12','2020-01', '2020-02']\n",
    "df_msp_nc = df_msp_nc[columns]"
   ]
  },
  {
   "cell_type": "code",
   "execution_count": null,
   "metadata": {},
   "outputs": [],
   "source": [
    "#Save to csv file for export in Excel\n",
    "df_msp_nc.to_csv('./Updates/STG_ZLLW_County_MedianSalePrice_AllHomes.txt', sep ='\\t')"
   ]
  },
  {
   "cell_type": "code",
   "execution_count": null,
   "metadata": {},
   "outputs": [],
   "source": [
    "#Reset Index for upload to database\n",
    "df_msp_nc = df_msp_nc.reset_index()    "
   ]
  },
  {
   "cell_type": "code",
   "execution_count": null,
   "metadata": {},
   "outputs": [],
   "source": [
    "#Fill NaN values for upload to database\n",
    "df_msp_nc['Metro'] = df_msp_nc['Metro'].replace(np.nan,'', regex=True)\n",
    "\n",
    "column_list = df_msp_nc.columns.values\n",
    "for i in column_list:\n",
    "    df_msp_nc.loc[df_msp_nc[i].isnull(),i]=0"
   ]
  },
  {
   "cell_type": "code",
   "execution_count": null,
   "metadata": {},
   "outputs": [],
   "source": [
    "#Connect to database and create cursor\n",
    "con = pyodbc.connect('Driver={SQL Server};'\n",
    "                      'Server=[servername];'\n",
    "                      'Database=[dbname];'\n",
    "                      'Trusted_Connection=yes;',\n",
    "                    autocommit=True)\n",
    "\n",
    "c = con.cursor()"
   ]
  },
  {
   "cell_type": "code",
   "execution_count": null,
   "metadata": {},
   "outputs": [],
   "source": [
    "#Drop old backup table\n",
    "c.execute('drop table STG_ZLLW_County_MedianSalePrice_AllHomes_BACKUP')"
   ]
  },
  {
   "cell_type": "code",
   "execution_count": null,
   "metadata": {},
   "outputs": [],
   "source": [
    "#Create new backup\n",
    "c.execute('''sp_rename 'dbo.STG_ZLLW_County_MedianSalePrice_AllHomes','STG_ZLLW_County_MedianSalePrice_AllHomes_BACKUP';''')"
   ]
  },
  {
   "cell_type": "code",
   "execution_count": null,
   "metadata": {},
   "outputs": [],
   "source": [
    "c.execute('''USE [[dbname]]\n",
    "\n",
    "SET ANSI_NULLS ON\n",
    "\n",
    "SET QUOTED_IDENTIFIER ON\n",
    "\n",
    "CREATE TABLE [dbo].[STG_ZLLW_County_MedianSalePrice_AllHomes](\n",
    "\t[RegionName] [varchar](40) NULL,\n",
    "\t[State] [varchar](2) NULL,\n",
    "\t[Metro] [varchar](40) NULL,\n",
    "\t[StateCodeFIPS] [varchar](2) NULL,\n",
    "\t[MunicipalCodeFIPS] [varchar](3) NULL,\n",
    "\t[SizeRank] [smallint] NULL,\n",
    "\t[2010-01] [float] NULL,\n",
    "\t[2010-02] [float] NULL,\n",
    "\t[2010-03] [float] NULL,\n",
    "\t[2010-04] [float] NULL,\n",
    "\t[2010-05] [float] NULL,\n",
    "\t[2010-06] [float] NULL,\n",
    "\t[2010-07] [float] NULL,\n",
    "\t[2010-08] [float] NULL,\n",
    "\t[2010-09] [float] NULL,\n",
    "\t[2010-10] [float] NULL,\n",
    "\t[2010-11] [float] NULL,\n",
    "\t[2010-12] [float] NULL,\n",
    "\t[2011-01] [float] NULL,\n",
    "\t[2011-02] [float] NULL,\n",
    "\t[2011-03] [float] NULL,\n",
    "\t[2011-04] [float] NULL,\n",
    "\t[2011-05] [float] NULL,\n",
    "\t[2011-06] [float] NULL,\n",
    "\t[2011-07] [float] NULL,\n",
    "\t[2011-08] [float] NULL,\n",
    "\t[2011-09] [float] NULL,\n",
    "\t[2011-10] [float] NULL,\n",
    "\t[2011-11] [float] NULL,\n",
    "\t[2011-12] [float] NULL,\n",
    "\t[2012-01] [float] NULL,\n",
    "\t[2012-02] [float] NULL,\n",
    "\t[2012-03] [float] NULL,\n",
    "\t[2012-04] [float] NULL,\n",
    "\t[2012-05] [float] NULL,\n",
    "\t[2012-06] [float] NULL,\n",
    "\t[2012-07] [float] NULL,\n",
    "\t[2012-08] [float] NULL,\n",
    "\t[2012-09] [float] NULL,\n",
    "\t[2012-10] [float] NULL,\n",
    "\t[2012-11] [float] NULL,\n",
    "\t[2012-12] [float] NULL,\n",
    "\t[2013-01] [float] NULL,\n",
    "\t[2013-02] [float] NULL,\n",
    "\t[2013-03] [float] NULL,\n",
    "\t[2013-04] [float] NULL,\n",
    "\t[2013-05] [float] NULL,\n",
    "\t[2013-06] [float] NULL,\n",
    "\t[2013-07] [float] NULL,\n",
    "\t[2013-08] [float] NULL,\n",
    "\t[2013-09] [float] NULL,\n",
    "\t[2013-10] [float] NULL,\n",
    "\t[2013-11] [float] NULL,\n",
    "\t[2013-12] [float] NULL,\n",
    "\t[2014-01] [float] NULL,\n",
    "\t[2014-02] [float] NULL,\n",
    "\t[2014-03] [float] NULL,\n",
    "\t[2014-04] [float] NULL,\n",
    "\t[2014-05] [float] NULL,\n",
    "\t[2014-06] [float] NULL,\n",
    "\t[2014-07] [float] NULL,\n",
    "\t[2014-08] [float] NULL,\n",
    "\t[2014-09] [float] NULL,\n",
    "\t[2014-10] [float] NULL,\n",
    "\t[2014-11] [float] NULL,\n",
    "\t[2014-12] [float] NULL,\n",
    "\t[2015-01] [float] NULL,\n",
    "\t[2015-02] [float] NULL,\n",
    "\t[2015-03] [float] NULL,\n",
    "\t[2015-04] [float] NULL,\n",
    "\t[2015-05] [float] NULL,\n",
    "\t[2015-06] [float] NULL,\n",
    "\t[2015-07] [float] NULL,\n",
    "\t[2015-08] [float] NULL,\n",
    "\t[2015-09] [float] NULL,\n",
    "\t[2015-10] [float] NULL,\n",
    "\t[2015-11] [float] NULL,\n",
    "\t[2015-12] [float] NULL,\n",
    "\t[2016-01] [float] NULL,\n",
    "\t[2016-02] [float] NULL,\n",
    "\t[2016-03] [float] NULL,\n",
    "\t[2016-04] [float] NULL,\n",
    "\t[2016-05] [float] NULL,\n",
    "\t[2016-06] [float] NULL,\n",
    "\t[2016-07] [float] NULL,\n",
    "\t[2016-08] [float] NULL,\n",
    "\t[2016-09] [float] NULL,\n",
    "\t[2016-10] [float] NULL,\n",
    "\t[2016-11] [float] NULL,\n",
    "\t[2016-12] [float] NULL,\n",
    "\t[2017-01] [float] NULL,\n",
    "\t[2017-02] [float] NULL,\n",
    "\t[2017-03] [float] NULL,\n",
    "\t[2017-04] [float] NULL,\n",
    "\t[2017-05] [float] NULL,\n",
    "\t[2017-06] [float] NULL,\n",
    "\t[2017-07] [float] NULL,\n",
    "\t[2017-08] [float] NULL,\n",
    "\t[2017-09] [float] NULL,\n",
    "\t[2017-10] [float] NULL,\n",
    "\t[2017-11] [float] NULL,\n",
    "\t[2017-12] [float] NULL,\n",
    "\t[2018-01] [float] NULL,\n",
    "\t[2018-02] [float] NULL,\n",
    "\t[2018-03] [float] NULL,\n",
    "\t[2018-04] [float] NULL,\n",
    "\t[2018-05] [float] NULL,\n",
    "\t[2018-06] [float] NULL,\n",
    "\t[2018-07] [float] NULL,\n",
    "\t[2018-08] [float] NULL,\n",
    "\t[2018-09] [float] NULL,\n",
    "\t[2018-10] [float] NULL,\n",
    "\t[2018-11] [float] NULL,\n",
    "\t[2018-12] [float] NULL,\n",
    "\t[2019-01] [float] NULL,\n",
    "\t[2019-02] [float] NULL,\n",
    "\t[2019-03] [float] NULL,\n",
    "\t[2019-04] [float] NULL,\n",
    "\t[2019-05] [float] NULL,\n",
    "\t[2019-06] [float] NULL,\n",
    "\t[2019-07] [float] NULL,\n",
    "\t[2019-08] [float] NULL,\n",
    "\t[2019-09] [float] NULL,\n",
    "\t[2019-10] [float] NULL,\n",
    "\t[2019-11] [float] NULL,\n",
    "\t[2019-12] [float] NULL,\n",
    "    [2020-01] [float] NULL,\n",
    "    [2020-02] [float] NULL,\n",
    "    [2020-03] [float] NULL,\n",
    "    [2020-04] [float] NULL,\n",
    "    [2020-05] [float] NULL,\n",
    "    [2020-06] [float] NULL,\n",
    "    [2020-07] [float] NULL,\n",
    "    [2020-08] [float] NULL,\n",
    "    [2020-09] [float] NULL,\n",
    "    [2020-10] [float] NULL,\n",
    "    [2020-11] [float] NULL,\n",
    "    [2020-12] [float] NULL,\n",
    "    [2021-01] [float] NULL,\n",
    "    [2021-02] [float] NULL,\n",
    "    [2021-03] [float] NULL,\n",
    "    [2021-04] [float] NULL,\n",
    "    [2021-05] [float] NULL,\n",
    "    [2021-06] [float] NULL,\n",
    "    [2021-07] [float] NULL,\n",
    "    [2021-08] [float] NULL,\n",
    "    [2021-09] [float] NULL,\n",
    "    [2021-10] [float] NULL,\n",
    "    [2021-11] [float] NULL,\n",
    "    [2021-12] [float] NULL,\n",
    "    [2022-01] [float] NULL,\n",
    "    [2022-02] [float] NULL,\n",
    "    [2022-03] [float] NULL,\n",
    "    [2022-04] [float] NULL,\n",
    "    [2022-05] [float] NULL,\n",
    "    [2022-06] [float] NULL,\n",
    "    [2022-07] [float] NULL,\n",
    "    [2022-08] [float] NULL,\n",
    "    [2022-09] [float] NULL,\n",
    "    [2022-10] [float] NULL,\n",
    "    [2022-11] [float] NULL,\n",
    "    [2022-12] [float] NULL\n",
    ") ON [PRIMARY]''')"
   ]
  },
  {
   "cell_type": "code",
   "execution_count": null,
   "metadata": {},
   "outputs": [],
   "source": [
    "params = urllib.parse.quote_plus(r'Driver={SQL Server};' \n",
    "                                 r'Server=[servername];'\n",
    "                                 r'Database=[dbname];'\n",
    "                                 r'Trusted_Connection=yes;')\n",
    "\n",
    "engine = create_engine(\"mssql+pyodbc:///?odbc_connect=%s\" % params)\n",
    "\n",
    "df_msp_nc.to_sql('STG_ZLLW_County_MedianSalePrice_AllHomes', con=engine, if_exists='replace', index=False)"
   ]
  }
 ],
 "metadata": {
  "kernelspec": {
   "display_name": "Python 3",
   "language": "python",
   "name": "python3"
  },
  "language_info": {
   "codemirror_mode": {
    "name": "ipython",
    "version": 3
   },
   "file_extension": ".py",
   "mimetype": "text/x-python",
   "name": "python",
   "nbconvert_exporter": "python",
   "pygments_lexer": "ipython3",
   "version": "3.7.6"
  }
 },
 "nbformat": 4,
 "nbformat_minor": 2
}
