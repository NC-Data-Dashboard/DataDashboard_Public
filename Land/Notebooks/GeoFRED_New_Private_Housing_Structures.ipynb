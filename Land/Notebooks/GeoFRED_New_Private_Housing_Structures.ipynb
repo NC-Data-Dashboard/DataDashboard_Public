{
 "cells": [
  {
   "cell_type": "code",
   "execution_count": null,
   "metadata": {},
   "outputs": [],
   "source": [
    "# Imports  \n",
    "import pandas as pd"
   ]
  },
  {
   "cell_type": "code",
   "execution_count": null,
   "metadata": {},
   "outputs": [],
   "source": [
    "# Watermark\n",
    "print('Nathan Young\\nJunior Data Analyst\\nCenter for the Study of Free Enterprise')\n",
    "%load_ext watermark\n",
    "%watermark -a \"Western Carolina University\" -u -d -p pandas"
   ]
  },
  {
   "cell_type": "code",
   "execution_count": null,
   "metadata": {},
   "outputs": [],
   "source": [
    "# Create backups\n",
    "df_backup = pd.read_csv('./Updates/STG_FRED_New_Private_Housing_Structures.txt')\n",
    "df_backup.to_csv('./Backups/STG_FRED_New_Private_Housing_Structures_BACKUP.txt')"
   ]
  },
  {
   "cell_type": "code",
   "execution_count": null,
   "metadata": {},
   "outputs": [],
   "source": [
    "# Getting and reading new data \n",
    "df = pd.read_excel(\"https://geofred.stlouisfed.org/api/download.php?theme=pubugn&colorCount=5&reverseColors=false&intervalMethod=fractile&displayStateOutline=true&lng=-89.96&lat=40.81&zoom=4&showLabels=true&showValues=true&regionType=county&seriesTypeId=155206&attributes=Not+Seasonally+Adjusted%2C+Annual%2C+Units&aggregationFrequency=Annual&aggregationType=Average&transformation=lin&date=2018-01-01&type=xls&startDate=1990-01-01&endDate=2018-01-01&mapWidth=999&mapHeight=521&hideLegend=false\", skiprows=1)\n",
    "df.head(2)"
   ]
  },
  {
   "cell_type": "code",
   "execution_count": null,
   "metadata": {
    "scrolled": true
   },
   "outputs": [],
   "source": [
    "# Filter data to display only North Carolina\n",
    "filter1 = df['Region Name'].str.contains(', NC')\n",
    "df_nc = df[filter1]\n",
    "df_nc.head(2)"
   ]
  },
  {
   "cell_type": "code",
   "execution_count": null,
   "metadata": {},
   "outputs": [],
   "source": [
    "# Set Index to Series ID\n",
    "df_nc.set_index(df_nc['Series ID'], inplace = True)\n",
    "df_nc.head(2)"
   ]
  },
  {
   "cell_type": "code",
   "execution_count": null,
   "metadata": {},
   "outputs": [],
   "source": [
    "# Drop Series ID column\n",
    "df_nc.drop('Series ID', axis = 1, inplace = True)\n",
    "df_nc.head(2)"
   ]
  },
  {
   "cell_type": "code",
   "execution_count": null,
   "metadata": {},
   "outputs": [],
   "source": [
    "# Save file to tab delimited txt for upload to SSMS\n",
    "df_nc.to_csv('./Updates/STG_FRED_New_Private_Housing_Structures.txt', sep = '\\t')"
   ]
  }
 ],
 "metadata": {
  "kernelspec": {
   "display_name": "Python 3",
   "language": "python",
   "name": "python3"
  },
  "language_info": {
   "codemirror_mode": {
    "name": "ipython",
    "version": 3
   },
   "file_extension": ".py",
   "mimetype": "text/x-python",
   "name": "python",
   "nbconvert_exporter": "python",
   "pygments_lexer": "ipython3",
   "version": "3.8.1"
  }
 },
 "nbformat": 4,
 "nbformat_minor": 2
}
